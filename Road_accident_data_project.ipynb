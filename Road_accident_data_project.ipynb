{
 "cells": [
  {
   "cell_type": "markdown",
   "id": "8759bd26-a957-443e-8d88-3d19b9b57037",
   "metadata": {},
   "source": [
    "### Exploratory data analysis(EDA)"
   ]
  },
  {
   "cell_type": "markdown",
   "id": "67de35c6-fbfa-46a7-a1c6-b10f0e1717d3",
   "metadata": {},
   "source": [
    "#### Import necessaries libraries"
   ]
  },
  {
   "cell_type": "code",
   "execution_count": 1,
   "id": "c2257745-c999-4adc-aeaa-e8c479f16234",
   "metadata": {},
   "outputs": [],
   "source": [
    "import numpy as np\n",
    "import pandas as pd\n",
    "import matplotlib.pyplot as plt\n",
    "import seaborn as sns"
   ]
  },
  {
   "cell_type": "markdown",
   "id": "391ec02f-2a66-49f4-bca8-98e153ceaf07",
   "metadata": {},
   "source": [
    "#### It loads the data from CSV file"
   ]
  },
  {
   "cell_type": "code",
   "execution_count": 2,
   "id": "05582084-b30e-45b5-ac6e-dcd2bba919b2",
   "metadata": {},
   "outputs": [],
   "source": [
    "df=pd.read_csv(r\"C:\\Users\\HP\\Downloads\\Road Accident Data.csv\")"
   ]
  },
  {
   "cell_type": "markdown",
   "id": "3c4e2042-019b-4007-9fe9-8270d13f75e6",
   "metadata": {},
   "source": [
    "## Road accident dataset:-\n",
    "This dataset containing road accidents data classified by type of injury, type of vehicle involved in accident, type of road, type of geographical area, time of the day and road conditions.\n",
    "\n",
    "#### 1. Accident Details:-\n",
    " - Accident_ID – Unique identifier for each accident\n",
    " - Date – Date of the accident\n",
    " - Time – Time of the accident\n",
    " - Day_of_Week – Day when the accident occurred (Monday, Tuesday, etc.)\n",
    " - Weather_Condition – Weather during the accident (Clear, Rainy, Foggy, etc.)\n",
    " - Road_Surface_Condition – Road condition (Dry, Wet, Icy, etc.)\n",
    "\n",
    "#### 2. Location Information\n",
    " - Latitude & Longitude – GPS coordinates of the accident\n",
    " - City / Region – The city or region where the accident happened\n",
    " - Road_Type – Type of road (Highway, Urban Street, Rural Road, etc.)\n",
    " - Speed_Limit – Speed limit at the accident location\n",
    "#### 3. Vehicle & Traffic Details\n",
    " - Number_of_Vehicles – Total vehicles involved in the accident\n",
    " - Vehicle_Type – Type of vehicle involved (Car, Bike, Truck, Bus, etc.)\n",
    " - Number_of_Casualties – Total number of people injured or killed\n",
    " - Severity – Severity of the accident (Fatal, Serious, Minor)\n",
    " - Light_Conditions – Whether the accident happened in daylight, dusk, or night"
   ]
  },
  {
   "cell_type": "code",
   "execution_count": 4,
   "id": "d6f41a90-c857-4e48-b3ca-d91c74c9136f",
   "metadata": {},
   "outputs": [
    {
     "data": {
      "text/html": [
       "<div>\n",
       "<style scoped>\n",
       "    .dataframe tbody tr th:only-of-type {\n",
       "        vertical-align: middle;\n",
       "    }\n",
       "\n",
       "    .dataframe tbody tr th {\n",
       "        vertical-align: top;\n",
       "    }\n",
       "\n",
       "    .dataframe thead th {\n",
       "        text-align: right;\n",
       "    }\n",
       "</style>\n",
       "<table border=\"1\" class=\"dataframe\">\n",
       "  <thead>\n",
       "    <tr style=\"text-align: right;\">\n",
       "      <th></th>\n",
       "      <th>Accident_Index</th>\n",
       "      <th>Accident Date</th>\n",
       "      <th>Month</th>\n",
       "      <th>Day_of_Week</th>\n",
       "      <th>Year</th>\n",
       "      <th>Junction_Control</th>\n",
       "      <th>Junction_Detail</th>\n",
       "      <th>Accident_Severity</th>\n",
       "      <th>Latitude</th>\n",
       "      <th>Light_Conditions</th>\n",
       "      <th>...</th>\n",
       "      <th>Number_of_Casualties</th>\n",
       "      <th>Number_of_Vehicles</th>\n",
       "      <th>Police_Force</th>\n",
       "      <th>Road_Surface_Conditions</th>\n",
       "      <th>Road_Type</th>\n",
       "      <th>Speed_limit</th>\n",
       "      <th>Time</th>\n",
       "      <th>Urban_or_Rural_Area</th>\n",
       "      <th>Weather_Conditions</th>\n",
       "      <th>Vehicle_Type</th>\n",
       "    </tr>\n",
       "  </thead>\n",
       "  <tbody>\n",
       "    <tr>\n",
       "      <th>0</th>\n",
       "      <td>200901BS70001</td>\n",
       "      <td>1/1/2021</td>\n",
       "      <td>Jan</td>\n",
       "      <td>Thursday</td>\n",
       "      <td>2021</td>\n",
       "      <td>Give way or uncontrolled</td>\n",
       "      <td>T or staggered junction</td>\n",
       "      <td>Serious</td>\n",
       "      <td>51.512273</td>\n",
       "      <td>Daylight</td>\n",
       "      <td>...</td>\n",
       "      <td>1</td>\n",
       "      <td>2</td>\n",
       "      <td>Metropolitan Police</td>\n",
       "      <td>Dry</td>\n",
       "      <td>One way street</td>\n",
       "      <td>30</td>\n",
       "      <td>15:11</td>\n",
       "      <td>Urban</td>\n",
       "      <td>Fine no high winds</td>\n",
       "      <td>Car</td>\n",
       "    </tr>\n",
       "    <tr>\n",
       "      <th>1</th>\n",
       "      <td>200901BS70002</td>\n",
       "      <td>1/5/2021</td>\n",
       "      <td>Jan</td>\n",
       "      <td>Monday</td>\n",
       "      <td>2021</td>\n",
       "      <td>Give way or uncontrolled</td>\n",
       "      <td>Crossroads</td>\n",
       "      <td>Serious</td>\n",
       "      <td>51.514399</td>\n",
       "      <td>Daylight</td>\n",
       "      <td>...</td>\n",
       "      <td>11</td>\n",
       "      <td>2</td>\n",
       "      <td>Metropolitan Police</td>\n",
       "      <td>Wet or damp</td>\n",
       "      <td>Single carriageway</td>\n",
       "      <td>30</td>\n",
       "      <td>10:59</td>\n",
       "      <td>Urban</td>\n",
       "      <td>Fine no high winds</td>\n",
       "      <td>Taxi/Private hire car</td>\n",
       "    </tr>\n",
       "    <tr>\n",
       "      <th>2</th>\n",
       "      <td>200901BS70003</td>\n",
       "      <td>1/4/2021</td>\n",
       "      <td>Jan</td>\n",
       "      <td>Sunday</td>\n",
       "      <td>2021</td>\n",
       "      <td>Give way or uncontrolled</td>\n",
       "      <td>T or staggered junction</td>\n",
       "      <td>Slight</td>\n",
       "      <td>51.486668</td>\n",
       "      <td>Daylight</td>\n",
       "      <td>...</td>\n",
       "      <td>1</td>\n",
       "      <td>2</td>\n",
       "      <td>Metropolitan Police</td>\n",
       "      <td>Dry</td>\n",
       "      <td>Single carriageway</td>\n",
       "      <td>30</td>\n",
       "      <td>14:19</td>\n",
       "      <td>Urban</td>\n",
       "      <td>Fine no high winds</td>\n",
       "      <td>Taxi/Private hire car</td>\n",
       "    </tr>\n",
       "    <tr>\n",
       "      <th>3</th>\n",
       "      <td>200901BS70004</td>\n",
       "      <td>1/5/2021</td>\n",
       "      <td>Jan</td>\n",
       "      <td>Monday</td>\n",
       "      <td>2021</td>\n",
       "      <td>Auto traffic signal</td>\n",
       "      <td>T or staggered junction</td>\n",
       "      <td>Serious</td>\n",
       "      <td>51.507804</td>\n",
       "      <td>Daylight</td>\n",
       "      <td>...</td>\n",
       "      <td>1</td>\n",
       "      <td>2</td>\n",
       "      <td>Metropolitan Police</td>\n",
       "      <td>Frost or ice</td>\n",
       "      <td>Single carriageway</td>\n",
       "      <td>30</td>\n",
       "      <td>8:10</td>\n",
       "      <td>Urban</td>\n",
       "      <td>Other</td>\n",
       "      <td>Motorcycle over 500cc</td>\n",
       "    </tr>\n",
       "    <tr>\n",
       "      <th>4</th>\n",
       "      <td>200901BS70005</td>\n",
       "      <td>1/6/2021</td>\n",
       "      <td>Jan</td>\n",
       "      <td>Tuesday</td>\n",
       "      <td>2021</td>\n",
       "      <td>Auto traffic signal</td>\n",
       "      <td>Crossroads</td>\n",
       "      <td>Serious</td>\n",
       "      <td>51.482076</td>\n",
       "      <td>Darkness - lights lit</td>\n",
       "      <td>...</td>\n",
       "      <td>1</td>\n",
       "      <td>2</td>\n",
       "      <td>Metropolitan Police</td>\n",
       "      <td>Dry</td>\n",
       "      <td>Single carriageway</td>\n",
       "      <td>30</td>\n",
       "      <td>17:25</td>\n",
       "      <td>Urban</td>\n",
       "      <td>Fine no high winds</td>\n",
       "      <td>Car</td>\n",
       "    </tr>\n",
       "    <tr>\n",
       "      <th>...</th>\n",
       "      <td>...</td>\n",
       "      <td>...</td>\n",
       "      <td>...</td>\n",
       "      <td>...</td>\n",
       "      <td>...</td>\n",
       "      <td>...</td>\n",
       "      <td>...</td>\n",
       "      <td>...</td>\n",
       "      <td>...</td>\n",
       "      <td>...</td>\n",
       "      <td>...</td>\n",
       "      <td>...</td>\n",
       "      <td>...</td>\n",
       "      <td>...</td>\n",
       "      <td>...</td>\n",
       "      <td>...</td>\n",
       "      <td>...</td>\n",
       "      <td>...</td>\n",
       "      <td>...</td>\n",
       "      <td>...</td>\n",
       "      <td>...</td>\n",
       "    </tr>\n",
       "    <tr>\n",
       "      <th>307968</th>\n",
       "      <td>201091NM01760</td>\n",
       "      <td>2/18/2022</td>\n",
       "      <td>Feb</td>\n",
       "      <td>Thursday</td>\n",
       "      <td>2022</td>\n",
       "      <td>Data missing or out of range</td>\n",
       "      <td>Not at junction or within 20 metres</td>\n",
       "      <td>Slight</td>\n",
       "      <td>57.374005</td>\n",
       "      <td>Daylight</td>\n",
       "      <td>...</td>\n",
       "      <td>2</td>\n",
       "      <td>1</td>\n",
       "      <td>Northern</td>\n",
       "      <td>Dry</td>\n",
       "      <td>Single carriageway</td>\n",
       "      <td>60</td>\n",
       "      <td>7:00</td>\n",
       "      <td>Rural</td>\n",
       "      <td>Fine no high winds</td>\n",
       "      <td>Car</td>\n",
       "    </tr>\n",
       "    <tr>\n",
       "      <th>307969</th>\n",
       "      <td>201091NM01881</td>\n",
       "      <td>2/21/2022</td>\n",
       "      <td>Feb</td>\n",
       "      <td>Sunday</td>\n",
       "      <td>2022</td>\n",
       "      <td>Data missing or out of range</td>\n",
       "      <td>Not at junction or within 20 metres</td>\n",
       "      <td>Slight</td>\n",
       "      <td>57.232273</td>\n",
       "      <td>Darkness - no lighting</td>\n",
       "      <td>...</td>\n",
       "      <td>1</td>\n",
       "      <td>1</td>\n",
       "      <td>Northern</td>\n",
       "      <td>Frost or ice</td>\n",
       "      <td>Single carriageway</td>\n",
       "      <td>60</td>\n",
       "      <td>3:00</td>\n",
       "      <td>Rural</td>\n",
       "      <td>Fine no high winds</td>\n",
       "      <td>Car</td>\n",
       "    </tr>\n",
       "    <tr>\n",
       "      <th>307970</th>\n",
       "      <td>201091NM01935</td>\n",
       "      <td>2/23/2022</td>\n",
       "      <td>Feb</td>\n",
       "      <td>Tuesday</td>\n",
       "      <td>2022</td>\n",
       "      <td>Give way or uncontrolled</td>\n",
       "      <td>T or staggered junction</td>\n",
       "      <td>Slight</td>\n",
       "      <td>57.585044</td>\n",
       "      <td>Daylight</td>\n",
       "      <td>...</td>\n",
       "      <td>1</td>\n",
       "      <td>3</td>\n",
       "      <td>Northern</td>\n",
       "      <td>Frost or ice</td>\n",
       "      <td>Single carriageway</td>\n",
       "      <td>30</td>\n",
       "      <td>9:38</td>\n",
       "      <td>Rural</td>\n",
       "      <td>Fine no high winds</td>\n",
       "      <td>Car</td>\n",
       "    </tr>\n",
       "    <tr>\n",
       "      <th>307971</th>\n",
       "      <td>201091NM01964</td>\n",
       "      <td>2/23/2022</td>\n",
       "      <td>Feb</td>\n",
       "      <td>Tuesday</td>\n",
       "      <td>2022</td>\n",
       "      <td>Give way or uncontrolled</td>\n",
       "      <td>T or staggered junction</td>\n",
       "      <td>Serious</td>\n",
       "      <td>57.214898</td>\n",
       "      <td>Darkness - no lighting</td>\n",
       "      <td>...</td>\n",
       "      <td>1</td>\n",
       "      <td>2</td>\n",
       "      <td>Northern</td>\n",
       "      <td>Wet or damp</td>\n",
       "      <td>Single carriageway</td>\n",
       "      <td>60</td>\n",
       "      <td>18:25</td>\n",
       "      <td>Rural</td>\n",
       "      <td>Fine no high winds</td>\n",
       "      <td>Motorcycle over 500cc</td>\n",
       "    </tr>\n",
       "    <tr>\n",
       "      <th>307972</th>\n",
       "      <td>201091NM02142</td>\n",
       "      <td>2/28/2022</td>\n",
       "      <td>Feb</td>\n",
       "      <td>Sunday</td>\n",
       "      <td>2022</td>\n",
       "      <td>Give way or uncontrolled</td>\n",
       "      <td>T or staggered junction</td>\n",
       "      <td>Serious</td>\n",
       "      <td>57.575210</td>\n",
       "      <td>Daylight</td>\n",
       "      <td>...</td>\n",
       "      <td>1</td>\n",
       "      <td>1</td>\n",
       "      <td>Northern</td>\n",
       "      <td>Wet or damp</td>\n",
       "      <td>Dual carriageway</td>\n",
       "      <td>60</td>\n",
       "      <td>15:45</td>\n",
       "      <td>Rural</td>\n",
       "      <td>Snowing no high winds</td>\n",
       "      <td>Car</td>\n",
       "    </tr>\n",
       "  </tbody>\n",
       "</table>\n",
       "<p>307973 rows × 23 columns</p>\n",
       "</div>"
      ],
      "text/plain": [
       "       Accident_Index Accident Date Month Day_of_Week  Year  \\\n",
       "0       200901BS70001      1/1/2021   Jan    Thursday  2021   \n",
       "1       200901BS70002      1/5/2021   Jan      Monday  2021   \n",
       "2       200901BS70003      1/4/2021   Jan      Sunday  2021   \n",
       "3       200901BS70004      1/5/2021   Jan      Monday  2021   \n",
       "4       200901BS70005      1/6/2021   Jan     Tuesday  2021   \n",
       "...               ...           ...   ...         ...   ...   \n",
       "307968  201091NM01760     2/18/2022   Feb    Thursday  2022   \n",
       "307969  201091NM01881     2/21/2022   Feb      Sunday  2022   \n",
       "307970  201091NM01935     2/23/2022   Feb     Tuesday  2022   \n",
       "307971  201091NM01964     2/23/2022   Feb     Tuesday  2022   \n",
       "307972  201091NM02142     2/28/2022   Feb      Sunday  2022   \n",
       "\n",
       "                    Junction_Control                      Junction_Detail  \\\n",
       "0           Give way or uncontrolled              T or staggered junction   \n",
       "1           Give way or uncontrolled                           Crossroads   \n",
       "2           Give way or uncontrolled              T or staggered junction   \n",
       "3                Auto traffic signal              T or staggered junction   \n",
       "4                Auto traffic signal                           Crossroads   \n",
       "...                              ...                                  ...   \n",
       "307968  Data missing or out of range  Not at junction or within 20 metres   \n",
       "307969  Data missing or out of range  Not at junction or within 20 metres   \n",
       "307970      Give way or uncontrolled              T or staggered junction   \n",
       "307971      Give way or uncontrolled              T or staggered junction   \n",
       "307972      Give way or uncontrolled              T or staggered junction   \n",
       "\n",
       "       Accident_Severity   Latitude        Light_Conditions  ...  \\\n",
       "0                Serious  51.512273                Daylight  ...   \n",
       "1                Serious  51.514399                Daylight  ...   \n",
       "2                 Slight  51.486668                Daylight  ...   \n",
       "3                Serious  51.507804                Daylight  ...   \n",
       "4                Serious  51.482076   Darkness - lights lit  ...   \n",
       "...                  ...        ...                     ...  ...   \n",
       "307968            Slight  57.374005                Daylight  ...   \n",
       "307969            Slight  57.232273  Darkness - no lighting  ...   \n",
       "307970            Slight  57.585044                Daylight  ...   \n",
       "307971           Serious  57.214898  Darkness - no lighting  ...   \n",
       "307972           Serious  57.575210                Daylight  ...   \n",
       "\n",
       "       Number_of_Casualties Number_of_Vehicles         Police_Force  \\\n",
       "0                         1                  2  Metropolitan Police   \n",
       "1                        11                  2  Metropolitan Police   \n",
       "2                         1                  2  Metropolitan Police   \n",
       "3                         1                  2  Metropolitan Police   \n",
       "4                         1                  2  Metropolitan Police   \n",
       "...                     ...                ...                  ...   \n",
       "307968                    2                  1             Northern   \n",
       "307969                    1                  1             Northern   \n",
       "307970                    1                  3             Northern   \n",
       "307971                    1                  2             Northern   \n",
       "307972                    1                  1             Northern   \n",
       "\n",
       "        Road_Surface_Conditions           Road_Type Speed_limit   Time  \\\n",
       "0                           Dry      One way street          30  15:11   \n",
       "1                   Wet or damp  Single carriageway          30  10:59   \n",
       "2                           Dry  Single carriageway          30  14:19   \n",
       "3                  Frost or ice  Single carriageway          30   8:10   \n",
       "4                           Dry  Single carriageway          30  17:25   \n",
       "...                         ...                 ...         ...    ...   \n",
       "307968                      Dry  Single carriageway          60   7:00   \n",
       "307969             Frost or ice  Single carriageway          60   3:00   \n",
       "307970             Frost or ice  Single carriageway          30   9:38   \n",
       "307971              Wet or damp  Single carriageway          60  18:25   \n",
       "307972              Wet or damp    Dual carriageway          60  15:45   \n",
       "\n",
       "       Urban_or_Rural_Area     Weather_Conditions           Vehicle_Type  \n",
       "0                    Urban     Fine no high winds                    Car  \n",
       "1                    Urban     Fine no high winds  Taxi/Private hire car  \n",
       "2                    Urban     Fine no high winds  Taxi/Private hire car  \n",
       "3                    Urban                  Other  Motorcycle over 500cc  \n",
       "4                    Urban     Fine no high winds                    Car  \n",
       "...                    ...                    ...                    ...  \n",
       "307968               Rural     Fine no high winds                    Car  \n",
       "307969               Rural     Fine no high winds                    Car  \n",
       "307970               Rural     Fine no high winds                    Car  \n",
       "307971               Rural     Fine no high winds  Motorcycle over 500cc  \n",
       "307972               Rural  Snowing no high winds                    Car  \n",
       "\n",
       "[307973 rows x 23 columns]"
      ]
     },
     "execution_count": 4,
     "metadata": {},
     "output_type": "execute_result"
    }
   ],
   "source": [
    "df"
   ]
  },
  {
   "cell_type": "markdown",
   "id": "2ab63cb8-0093-46e3-8bc6-57041abb1d3e",
   "metadata": {},
   "source": [
    "#### To count the number of duplicate rows in dataframe."
   ]
  },
  {
   "cell_type": "code",
   "execution_count": 5,
   "id": "4c1f51ba-125a-43a0-8a43-79a8faa290b5",
   "metadata": {},
   "outputs": [
    {
     "data": {
      "text/plain": [
       "np.int64(1)"
      ]
     },
     "execution_count": 5,
     "metadata": {},
     "output_type": "execute_result"
    }
   ],
   "source": [
    "df.duplicated().sum()"
   ]
  },
  {
   "cell_type": "markdown",
   "id": "3ba596b6-3d5d-47d7-9274-b4198dc14cb7",
   "metadata": {},
   "source": [
    "#### To show the duplicate rows in dataframe"
   ]
  },
  {
   "cell_type": "code",
   "execution_count": 6,
   "id": "8c9845c0-cbdc-4006-b1de-996ff4b3cdde",
   "metadata": {},
   "outputs": [
    {
     "data": {
      "text/html": [
       "<div>\n",
       "<style scoped>\n",
       "    .dataframe tbody tr th:only-of-type {\n",
       "        vertical-align: middle;\n",
       "    }\n",
       "\n",
       "    .dataframe tbody tr th {\n",
       "        vertical-align: top;\n",
       "    }\n",
       "\n",
       "    .dataframe thead th {\n",
       "        text-align: right;\n",
       "    }\n",
       "</style>\n",
       "<table border=\"1\" class=\"dataframe\">\n",
       "  <thead>\n",
       "    <tr style=\"text-align: right;\">\n",
       "      <th></th>\n",
       "      <th>Accident_Index</th>\n",
       "      <th>Accident Date</th>\n",
       "      <th>Month</th>\n",
       "      <th>Day_of_Week</th>\n",
       "      <th>Year</th>\n",
       "      <th>Junction_Control</th>\n",
       "      <th>Junction_Detail</th>\n",
       "      <th>Accident_Severity</th>\n",
       "      <th>Latitude</th>\n",
       "      <th>Light_Conditions</th>\n",
       "      <th>...</th>\n",
       "      <th>Number_of_Casualties</th>\n",
       "      <th>Number_of_Vehicles</th>\n",
       "      <th>Police_Force</th>\n",
       "      <th>Road_Surface_Conditions</th>\n",
       "      <th>Road_Type</th>\n",
       "      <th>Speed_limit</th>\n",
       "      <th>Time</th>\n",
       "      <th>Urban_or_Rural_Area</th>\n",
       "      <th>Weather_Conditions</th>\n",
       "      <th>Vehicle_Type</th>\n",
       "    </tr>\n",
       "  </thead>\n",
       "  <tbody>\n",
       "    <tr>\n",
       "      <th>50483</th>\n",
       "      <td>2.01E+12</td>\n",
       "      <td>1/6/2021</td>\n",
       "      <td>Jan</td>\n",
       "      <td>Tuesday</td>\n",
       "      <td>2021</td>\n",
       "      <td>Data missing or out of range</td>\n",
       "      <td>Not at junction or within 20 metres</td>\n",
       "      <td>Slight</td>\n",
       "      <td>53.648498</td>\n",
       "      <td>Daylight</td>\n",
       "      <td>...</td>\n",
       "      <td>1</td>\n",
       "      <td>1</td>\n",
       "      <td>West Yorkshire</td>\n",
       "      <td>Frost or ice</td>\n",
       "      <td>Single carriageway</td>\n",
       "      <td>50</td>\n",
       "      <td>16:35</td>\n",
       "      <td>Rural</td>\n",
       "      <td>Fine no high winds</td>\n",
       "      <td>Car</td>\n",
       "    </tr>\n",
       "  </tbody>\n",
       "</table>\n",
       "<p>1 rows × 23 columns</p>\n",
       "</div>"
      ],
      "text/plain": [
       "      Accident_Index Accident Date Month Day_of_Week  Year  \\\n",
       "50483       2.01E+12      1/6/2021   Jan     Tuesday  2021   \n",
       "\n",
       "                   Junction_Control                      Junction_Detail  \\\n",
       "50483  Data missing or out of range  Not at junction or within 20 metres   \n",
       "\n",
       "      Accident_Severity   Latitude Light_Conditions  ... Number_of_Casualties  \\\n",
       "50483            Slight  53.648498         Daylight  ...                    1   \n",
       "\n",
       "      Number_of_Vehicles    Police_Force  Road_Surface_Conditions  \\\n",
       "50483                  1  West Yorkshire             Frost or ice   \n",
       "\n",
       "                Road_Type Speed_limit   Time Urban_or_Rural_Area  \\\n",
       "50483  Single carriageway          50  16:35               Rural   \n",
       "\n",
       "       Weather_Conditions Vehicle_Type  \n",
       "50483  Fine no high winds          Car  \n",
       "\n",
       "[1 rows x 23 columns]"
      ]
     },
     "execution_count": 6,
     "metadata": {},
     "output_type": "execute_result"
    }
   ],
   "source": [
    "df[df.duplicated()==True]"
   ]
  },
  {
   "cell_type": "markdown",
   "id": "7f11cdea-7702-4570-9cb3-5ebc3f5077cf",
   "metadata": {},
   "source": [
    "#### To drop a duplicate rows in dataframe"
   ]
  },
  {
   "cell_type": "code",
   "execution_count": 10,
   "id": "95d22a2d-1c13-4cd1-ac84-d467f859c76f",
   "metadata": {},
   "outputs": [
    {
     "data": {
      "text/html": [
       "<div>\n",
       "<style scoped>\n",
       "    .dataframe tbody tr th:only-of-type {\n",
       "        vertical-align: middle;\n",
       "    }\n",
       "\n",
       "    .dataframe tbody tr th {\n",
       "        vertical-align: top;\n",
       "    }\n",
       "\n",
       "    .dataframe thead th {\n",
       "        text-align: right;\n",
       "    }\n",
       "</style>\n",
       "<table border=\"1\" class=\"dataframe\">\n",
       "  <thead>\n",
       "    <tr style=\"text-align: right;\">\n",
       "      <th></th>\n",
       "      <th>Accident_Index</th>\n",
       "      <th>Accident Date</th>\n",
       "      <th>Month</th>\n",
       "      <th>Day_of_Week</th>\n",
       "      <th>Year</th>\n",
       "      <th>Junction_Control</th>\n",
       "      <th>Junction_Detail</th>\n",
       "      <th>Accident_Severity</th>\n",
       "      <th>Latitude</th>\n",
       "      <th>Light_Conditions</th>\n",
       "      <th>...</th>\n",
       "      <th>Number_of_Casualties</th>\n",
       "      <th>Number_of_Vehicles</th>\n",
       "      <th>Police_Force</th>\n",
       "      <th>Road_Surface_Conditions</th>\n",
       "      <th>Road_Type</th>\n",
       "      <th>Speed_limit</th>\n",
       "      <th>Time</th>\n",
       "      <th>Urban_or_Rural_Area</th>\n",
       "      <th>Weather_Conditions</th>\n",
       "      <th>Vehicle_Type</th>\n",
       "    </tr>\n",
       "  </thead>\n",
       "  <tbody>\n",
       "    <tr>\n",
       "      <th>0</th>\n",
       "      <td>False</td>\n",
       "      <td>False</td>\n",
       "      <td>False</td>\n",
       "      <td>False</td>\n",
       "      <td>False</td>\n",
       "      <td>False</td>\n",
       "      <td>False</td>\n",
       "      <td>False</td>\n",
       "      <td>False</td>\n",
       "      <td>False</td>\n",
       "      <td>...</td>\n",
       "      <td>True</td>\n",
       "      <td>False</td>\n",
       "      <td>False</td>\n",
       "      <td>False</td>\n",
       "      <td>False</td>\n",
       "      <td>False</td>\n",
       "      <td>False</td>\n",
       "      <td>False</td>\n",
       "      <td>False</td>\n",
       "      <td>False</td>\n",
       "    </tr>\n",
       "    <tr>\n",
       "      <th>1</th>\n",
       "      <td>False</td>\n",
       "      <td>False</td>\n",
       "      <td>False</td>\n",
       "      <td>False</td>\n",
       "      <td>False</td>\n",
       "      <td>False</td>\n",
       "      <td>False</td>\n",
       "      <td>False</td>\n",
       "      <td>False</td>\n",
       "      <td>False</td>\n",
       "      <td>...</td>\n",
       "      <td>False</td>\n",
       "      <td>False</td>\n",
       "      <td>False</td>\n",
       "      <td>False</td>\n",
       "      <td>False</td>\n",
       "      <td>False</td>\n",
       "      <td>False</td>\n",
       "      <td>False</td>\n",
       "      <td>False</td>\n",
       "      <td>False</td>\n",
       "    </tr>\n",
       "    <tr>\n",
       "      <th>2</th>\n",
       "      <td>False</td>\n",
       "      <td>False</td>\n",
       "      <td>False</td>\n",
       "      <td>False</td>\n",
       "      <td>False</td>\n",
       "      <td>False</td>\n",
       "      <td>False</td>\n",
       "      <td>False</td>\n",
       "      <td>False</td>\n",
       "      <td>False</td>\n",
       "      <td>...</td>\n",
       "      <td>True</td>\n",
       "      <td>False</td>\n",
       "      <td>False</td>\n",
       "      <td>False</td>\n",
       "      <td>False</td>\n",
       "      <td>False</td>\n",
       "      <td>False</td>\n",
       "      <td>False</td>\n",
       "      <td>False</td>\n",
       "      <td>False</td>\n",
       "    </tr>\n",
       "    <tr>\n",
       "      <th>3</th>\n",
       "      <td>False</td>\n",
       "      <td>False</td>\n",
       "      <td>False</td>\n",
       "      <td>False</td>\n",
       "      <td>False</td>\n",
       "      <td>False</td>\n",
       "      <td>False</td>\n",
       "      <td>False</td>\n",
       "      <td>False</td>\n",
       "      <td>False</td>\n",
       "      <td>...</td>\n",
       "      <td>True</td>\n",
       "      <td>False</td>\n",
       "      <td>False</td>\n",
       "      <td>False</td>\n",
       "      <td>False</td>\n",
       "      <td>False</td>\n",
       "      <td>False</td>\n",
       "      <td>False</td>\n",
       "      <td>False</td>\n",
       "      <td>False</td>\n",
       "    </tr>\n",
       "    <tr>\n",
       "      <th>4</th>\n",
       "      <td>False</td>\n",
       "      <td>False</td>\n",
       "      <td>False</td>\n",
       "      <td>False</td>\n",
       "      <td>False</td>\n",
       "      <td>False</td>\n",
       "      <td>False</td>\n",
       "      <td>False</td>\n",
       "      <td>False</td>\n",
       "      <td>False</td>\n",
       "      <td>...</td>\n",
       "      <td>True</td>\n",
       "      <td>False</td>\n",
       "      <td>False</td>\n",
       "      <td>False</td>\n",
       "      <td>False</td>\n",
       "      <td>False</td>\n",
       "      <td>False</td>\n",
       "      <td>False</td>\n",
       "      <td>False</td>\n",
       "      <td>False</td>\n",
       "    </tr>\n",
       "    <tr>\n",
       "      <th>...</th>\n",
       "      <td>...</td>\n",
       "      <td>...</td>\n",
       "      <td>...</td>\n",
       "      <td>...</td>\n",
       "      <td>...</td>\n",
       "      <td>...</td>\n",
       "      <td>...</td>\n",
       "      <td>...</td>\n",
       "      <td>...</td>\n",
       "      <td>...</td>\n",
       "      <td>...</td>\n",
       "      <td>...</td>\n",
       "      <td>...</td>\n",
       "      <td>...</td>\n",
       "      <td>...</td>\n",
       "      <td>...</td>\n",
       "      <td>...</td>\n",
       "      <td>...</td>\n",
       "      <td>...</td>\n",
       "      <td>...</td>\n",
       "      <td>...</td>\n",
       "    </tr>\n",
       "    <tr>\n",
       "      <th>307968</th>\n",
       "      <td>False</td>\n",
       "      <td>False</td>\n",
       "      <td>False</td>\n",
       "      <td>False</td>\n",
       "      <td>False</td>\n",
       "      <td>False</td>\n",
       "      <td>False</td>\n",
       "      <td>False</td>\n",
       "      <td>False</td>\n",
       "      <td>False</td>\n",
       "      <td>...</td>\n",
       "      <td>False</td>\n",
       "      <td>True</td>\n",
       "      <td>False</td>\n",
       "      <td>False</td>\n",
       "      <td>False</td>\n",
       "      <td>False</td>\n",
       "      <td>False</td>\n",
       "      <td>False</td>\n",
       "      <td>False</td>\n",
       "      <td>False</td>\n",
       "    </tr>\n",
       "    <tr>\n",
       "      <th>307969</th>\n",
       "      <td>False</td>\n",
       "      <td>False</td>\n",
       "      <td>False</td>\n",
       "      <td>False</td>\n",
       "      <td>False</td>\n",
       "      <td>False</td>\n",
       "      <td>False</td>\n",
       "      <td>False</td>\n",
       "      <td>False</td>\n",
       "      <td>False</td>\n",
       "      <td>...</td>\n",
       "      <td>True</td>\n",
       "      <td>True</td>\n",
       "      <td>False</td>\n",
       "      <td>False</td>\n",
       "      <td>False</td>\n",
       "      <td>False</td>\n",
       "      <td>False</td>\n",
       "      <td>False</td>\n",
       "      <td>False</td>\n",
       "      <td>False</td>\n",
       "    </tr>\n",
       "    <tr>\n",
       "      <th>307970</th>\n",
       "      <td>False</td>\n",
       "      <td>False</td>\n",
       "      <td>False</td>\n",
       "      <td>False</td>\n",
       "      <td>False</td>\n",
       "      <td>False</td>\n",
       "      <td>False</td>\n",
       "      <td>False</td>\n",
       "      <td>False</td>\n",
       "      <td>False</td>\n",
       "      <td>...</td>\n",
       "      <td>True</td>\n",
       "      <td>False</td>\n",
       "      <td>False</td>\n",
       "      <td>False</td>\n",
       "      <td>False</td>\n",
       "      <td>False</td>\n",
       "      <td>False</td>\n",
       "      <td>False</td>\n",
       "      <td>False</td>\n",
       "      <td>False</td>\n",
       "    </tr>\n",
       "    <tr>\n",
       "      <th>307971</th>\n",
       "      <td>False</td>\n",
       "      <td>False</td>\n",
       "      <td>False</td>\n",
       "      <td>False</td>\n",
       "      <td>False</td>\n",
       "      <td>False</td>\n",
       "      <td>False</td>\n",
       "      <td>False</td>\n",
       "      <td>False</td>\n",
       "      <td>False</td>\n",
       "      <td>...</td>\n",
       "      <td>True</td>\n",
       "      <td>False</td>\n",
       "      <td>False</td>\n",
       "      <td>False</td>\n",
       "      <td>False</td>\n",
       "      <td>False</td>\n",
       "      <td>False</td>\n",
       "      <td>False</td>\n",
       "      <td>False</td>\n",
       "      <td>False</td>\n",
       "    </tr>\n",
       "    <tr>\n",
       "      <th>307972</th>\n",
       "      <td>False</td>\n",
       "      <td>False</td>\n",
       "      <td>False</td>\n",
       "      <td>False</td>\n",
       "      <td>False</td>\n",
       "      <td>False</td>\n",
       "      <td>False</td>\n",
       "      <td>False</td>\n",
       "      <td>False</td>\n",
       "      <td>False</td>\n",
       "      <td>...</td>\n",
       "      <td>True</td>\n",
       "      <td>True</td>\n",
       "      <td>False</td>\n",
       "      <td>False</td>\n",
       "      <td>False</td>\n",
       "      <td>False</td>\n",
       "      <td>False</td>\n",
       "      <td>False</td>\n",
       "      <td>False</td>\n",
       "      <td>False</td>\n",
       "    </tr>\n",
       "  </tbody>\n",
       "</table>\n",
       "<p>307972 rows × 23 columns</p>\n",
       "</div>"
      ],
      "text/plain": [
       "        Accident_Index  Accident Date  Month  Day_of_Week   Year  \\\n",
       "0                False          False  False        False  False   \n",
       "1                False          False  False        False  False   \n",
       "2                False          False  False        False  False   \n",
       "3                False          False  False        False  False   \n",
       "4                False          False  False        False  False   \n",
       "...                ...            ...    ...          ...    ...   \n",
       "307968           False          False  False        False  False   \n",
       "307969           False          False  False        False  False   \n",
       "307970           False          False  False        False  False   \n",
       "307971           False          False  False        False  False   \n",
       "307972           False          False  False        False  False   \n",
       "\n",
       "        Junction_Control  Junction_Detail  Accident_Severity  Latitude  \\\n",
       "0                  False            False              False     False   \n",
       "1                  False            False              False     False   \n",
       "2                  False            False              False     False   \n",
       "3                  False            False              False     False   \n",
       "4                  False            False              False     False   \n",
       "...                  ...              ...                ...       ...   \n",
       "307968             False            False              False     False   \n",
       "307969             False            False              False     False   \n",
       "307970             False            False              False     False   \n",
       "307971             False            False              False     False   \n",
       "307972             False            False              False     False   \n",
       "\n",
       "        Light_Conditions  ...  Number_of_Casualties  Number_of_Vehicles  \\\n",
       "0                  False  ...                  True               False   \n",
       "1                  False  ...                 False               False   \n",
       "2                  False  ...                  True               False   \n",
       "3                  False  ...                  True               False   \n",
       "4                  False  ...                  True               False   \n",
       "...                  ...  ...                   ...                 ...   \n",
       "307968             False  ...                 False                True   \n",
       "307969             False  ...                  True                True   \n",
       "307970             False  ...                  True               False   \n",
       "307971             False  ...                  True               False   \n",
       "307972             False  ...                  True                True   \n",
       "\n",
       "        Police_Force  Road_Surface_Conditions  Road_Type  Speed_limit   Time  \\\n",
       "0              False                    False      False        False  False   \n",
       "1              False                    False      False        False  False   \n",
       "2              False                    False      False        False  False   \n",
       "3              False                    False      False        False  False   \n",
       "4              False                    False      False        False  False   \n",
       "...              ...                      ...        ...          ...    ...   \n",
       "307968         False                    False      False        False  False   \n",
       "307969         False                    False      False        False  False   \n",
       "307970         False                    False      False        False  False   \n",
       "307971         False                    False      False        False  False   \n",
       "307972         False                    False      False        False  False   \n",
       "\n",
       "        Urban_or_Rural_Area  Weather_Conditions  Vehicle_Type  \n",
       "0                     False               False         False  \n",
       "1                     False               False         False  \n",
       "2                     False               False         False  \n",
       "3                     False               False         False  \n",
       "4                     False               False         False  \n",
       "...                     ...                 ...           ...  \n",
       "307968                False               False         False  \n",
       "307969                False               False         False  \n",
       "307970                False               False         False  \n",
       "307971                False               False         False  \n",
       "307972                False               False         False  \n",
       "\n",
       "[307972 rows x 23 columns]"
      ]
     },
     "execution_count": 10,
     "metadata": {},
     "output_type": "execute_result"
    }
   ],
   "source": [
    "df.drop_duplicates()==True"
   ]
  },
  {
   "cell_type": "markdown",
   "id": "5e6c57e5-1921-46a8-86be-00447b5618e9",
   "metadata": {},
   "source": [
    "#### To show all columns in dataframe"
   ]
  },
  {
   "cell_type": "code",
   "execution_count": 111,
   "id": "340ae563-6006-4ca6-882d-9816a3b49cdf",
   "metadata": {},
   "outputs": [],
   "source": [
    "pd.set_option('display.max_columns',None)           "
   ]
  },
  {
   "cell_type": "code",
   "execution_count": 112,
   "id": "83bb2dda-8226-45f6-982f-249cb6f94688",
   "metadata": {},
   "outputs": [
    {
     "data": {
      "text/html": [
       "<div>\n",
       "<style scoped>\n",
       "    .dataframe tbody tr th:only-of-type {\n",
       "        vertical-align: middle;\n",
       "    }\n",
       "\n",
       "    .dataframe tbody tr th {\n",
       "        vertical-align: top;\n",
       "    }\n",
       "\n",
       "    .dataframe thead th {\n",
       "        text-align: right;\n",
       "    }\n",
       "</style>\n",
       "<table border=\"1\" class=\"dataframe\">\n",
       "  <thead>\n",
       "    <tr style=\"text-align: right;\">\n",
       "      <th></th>\n",
       "      <th>Accident_Index</th>\n",
       "      <th>Accident Date</th>\n",
       "      <th>Month</th>\n",
       "      <th>Day_of_Week</th>\n",
       "      <th>Year</th>\n",
       "      <th>Junction_Control</th>\n",
       "      <th>Junction_Detail</th>\n",
       "      <th>Accident_Severity</th>\n",
       "      <th>Latitude</th>\n",
       "      <th>Light_Conditions</th>\n",
       "      <th>Local_Authority_(District)</th>\n",
       "      <th>Carriageway_Hazards</th>\n",
       "      <th>Longitude</th>\n",
       "      <th>Number_of_Casualties</th>\n",
       "      <th>Number_of_Vehicles</th>\n",
       "      <th>Police_Force</th>\n",
       "      <th>Road_Surface_Conditions</th>\n",
       "      <th>Road_Type</th>\n",
       "      <th>Speed_limit</th>\n",
       "      <th>Time</th>\n",
       "      <th>Urban_or_Rural_Area</th>\n",
       "      <th>Weather_Conditions</th>\n",
       "      <th>Vehicle_Type</th>\n",
       "    </tr>\n",
       "  </thead>\n",
       "  <tbody>\n",
       "    <tr>\n",
       "      <th>0</th>\n",
       "      <td>200901BS70001</td>\n",
       "      <td>1/1/2021</td>\n",
       "      <td>Jan</td>\n",
       "      <td>Thursday</td>\n",
       "      <td>2021</td>\n",
       "      <td>Give way or uncontrolled</td>\n",
       "      <td>T or staggered junction</td>\n",
       "      <td>Serious</td>\n",
       "      <td>51.512273</td>\n",
       "      <td>Daylight</td>\n",
       "      <td>Kensington and Chelsea</td>\n",
       "      <td>NaN</td>\n",
       "      <td>-0.201349</td>\n",
       "      <td>1</td>\n",
       "      <td>2</td>\n",
       "      <td>Metropolitan Police</td>\n",
       "      <td>Dry</td>\n",
       "      <td>One way street</td>\n",
       "      <td>30</td>\n",
       "      <td>15:11</td>\n",
       "      <td>Urban</td>\n",
       "      <td>Fine no high winds</td>\n",
       "      <td>Car</td>\n",
       "    </tr>\n",
       "    <tr>\n",
       "      <th>1</th>\n",
       "      <td>200901BS70002</td>\n",
       "      <td>1/5/2021</td>\n",
       "      <td>Jan</td>\n",
       "      <td>Monday</td>\n",
       "      <td>2021</td>\n",
       "      <td>Give way or uncontrolled</td>\n",
       "      <td>Crossroads</td>\n",
       "      <td>Serious</td>\n",
       "      <td>51.514399</td>\n",
       "      <td>Daylight</td>\n",
       "      <td>Kensington and Chelsea</td>\n",
       "      <td>NaN</td>\n",
       "      <td>-0.199248</td>\n",
       "      <td>11</td>\n",
       "      <td>2</td>\n",
       "      <td>Metropolitan Police</td>\n",
       "      <td>Wet or damp</td>\n",
       "      <td>Single carriageway</td>\n",
       "      <td>30</td>\n",
       "      <td>10:59</td>\n",
       "      <td>Urban</td>\n",
       "      <td>Fine no high winds</td>\n",
       "      <td>Taxi/Private hire car</td>\n",
       "    </tr>\n",
       "    <tr>\n",
       "      <th>2</th>\n",
       "      <td>200901BS70003</td>\n",
       "      <td>1/4/2021</td>\n",
       "      <td>Jan</td>\n",
       "      <td>Sunday</td>\n",
       "      <td>2021</td>\n",
       "      <td>Give way or uncontrolled</td>\n",
       "      <td>T or staggered junction</td>\n",
       "      <td>Slight</td>\n",
       "      <td>51.486668</td>\n",
       "      <td>Daylight</td>\n",
       "      <td>Kensington and Chelsea</td>\n",
       "      <td>NaN</td>\n",
       "      <td>-0.179599</td>\n",
       "      <td>1</td>\n",
       "      <td>2</td>\n",
       "      <td>Metropolitan Police</td>\n",
       "      <td>Dry</td>\n",
       "      <td>Single carriageway</td>\n",
       "      <td>30</td>\n",
       "      <td>14:19</td>\n",
       "      <td>Urban</td>\n",
       "      <td>Fine no high winds</td>\n",
       "      <td>Taxi/Private hire car</td>\n",
       "    </tr>\n",
       "    <tr>\n",
       "      <th>3</th>\n",
       "      <td>200901BS70004</td>\n",
       "      <td>1/5/2021</td>\n",
       "      <td>Jan</td>\n",
       "      <td>Monday</td>\n",
       "      <td>2021</td>\n",
       "      <td>Auto traffic signal</td>\n",
       "      <td>T or staggered junction</td>\n",
       "      <td>Serious</td>\n",
       "      <td>51.507804</td>\n",
       "      <td>Daylight</td>\n",
       "      <td>Kensington and Chelsea</td>\n",
       "      <td>NaN</td>\n",
       "      <td>-0.203110</td>\n",
       "      <td>1</td>\n",
       "      <td>2</td>\n",
       "      <td>Metropolitan Police</td>\n",
       "      <td>Frost or ice</td>\n",
       "      <td>Single carriageway</td>\n",
       "      <td>30</td>\n",
       "      <td>8:10</td>\n",
       "      <td>Urban</td>\n",
       "      <td>Other</td>\n",
       "      <td>Motorcycle over 500cc</td>\n",
       "    </tr>\n",
       "    <tr>\n",
       "      <th>4</th>\n",
       "      <td>200901BS70005</td>\n",
       "      <td>1/6/2021</td>\n",
       "      <td>Jan</td>\n",
       "      <td>Tuesday</td>\n",
       "      <td>2021</td>\n",
       "      <td>Auto traffic signal</td>\n",
       "      <td>Crossroads</td>\n",
       "      <td>Serious</td>\n",
       "      <td>51.482076</td>\n",
       "      <td>Darkness - lights lit</td>\n",
       "      <td>Kensington and Chelsea</td>\n",
       "      <td>NaN</td>\n",
       "      <td>-0.173445</td>\n",
       "      <td>1</td>\n",
       "      <td>2</td>\n",
       "      <td>Metropolitan Police</td>\n",
       "      <td>Dry</td>\n",
       "      <td>Single carriageway</td>\n",
       "      <td>30</td>\n",
       "      <td>17:25</td>\n",
       "      <td>Urban</td>\n",
       "      <td>Fine no high winds</td>\n",
       "      <td>Car</td>\n",
       "    </tr>\n",
       "    <tr>\n",
       "      <th>...</th>\n",
       "      <td>...</td>\n",
       "      <td>...</td>\n",
       "      <td>...</td>\n",
       "      <td>...</td>\n",
       "      <td>...</td>\n",
       "      <td>...</td>\n",
       "      <td>...</td>\n",
       "      <td>...</td>\n",
       "      <td>...</td>\n",
       "      <td>...</td>\n",
       "      <td>...</td>\n",
       "      <td>...</td>\n",
       "      <td>...</td>\n",
       "      <td>...</td>\n",
       "      <td>...</td>\n",
       "      <td>...</td>\n",
       "      <td>...</td>\n",
       "      <td>...</td>\n",
       "      <td>...</td>\n",
       "      <td>...</td>\n",
       "      <td>...</td>\n",
       "      <td>...</td>\n",
       "      <td>...</td>\n",
       "    </tr>\n",
       "    <tr>\n",
       "      <th>307968</th>\n",
       "      <td>201091NM01760</td>\n",
       "      <td>2/18/2022</td>\n",
       "      <td>Feb</td>\n",
       "      <td>Thursday</td>\n",
       "      <td>2022</td>\n",
       "      <td>Data missing or out of range</td>\n",
       "      <td>Not at junction or within 20 metres</td>\n",
       "      <td>Slight</td>\n",
       "      <td>57.374005</td>\n",
       "      <td>Daylight</td>\n",
       "      <td>Highland</td>\n",
       "      <td>NaN</td>\n",
       "      <td>-3.467828</td>\n",
       "      <td>2</td>\n",
       "      <td>1</td>\n",
       "      <td>Northern</td>\n",
       "      <td>Dry</td>\n",
       "      <td>Single carriageway</td>\n",
       "      <td>60</td>\n",
       "      <td>7:00</td>\n",
       "      <td>Rural</td>\n",
       "      <td>Fine no high winds</td>\n",
       "      <td>Car</td>\n",
       "    </tr>\n",
       "    <tr>\n",
       "      <th>307969</th>\n",
       "      <td>201091NM01881</td>\n",
       "      <td>2/21/2022</td>\n",
       "      <td>Feb</td>\n",
       "      <td>Sunday</td>\n",
       "      <td>2022</td>\n",
       "      <td>Data missing or out of range</td>\n",
       "      <td>Not at junction or within 20 metres</td>\n",
       "      <td>Slight</td>\n",
       "      <td>57.232273</td>\n",
       "      <td>Darkness - no lighting</td>\n",
       "      <td>Highland</td>\n",
       "      <td>NaN</td>\n",
       "      <td>-3.809281</td>\n",
       "      <td>1</td>\n",
       "      <td>1</td>\n",
       "      <td>Northern</td>\n",
       "      <td>Frost or ice</td>\n",
       "      <td>Single carriageway</td>\n",
       "      <td>60</td>\n",
       "      <td>3:00</td>\n",
       "      <td>Rural</td>\n",
       "      <td>Fine no high winds</td>\n",
       "      <td>Car</td>\n",
       "    </tr>\n",
       "    <tr>\n",
       "      <th>307970</th>\n",
       "      <td>201091NM01935</td>\n",
       "      <td>2/23/2022</td>\n",
       "      <td>Feb</td>\n",
       "      <td>Tuesday</td>\n",
       "      <td>2022</td>\n",
       "      <td>Give way or uncontrolled</td>\n",
       "      <td>T or staggered junction</td>\n",
       "      <td>Slight</td>\n",
       "      <td>57.585044</td>\n",
       "      <td>Daylight</td>\n",
       "      <td>Highland</td>\n",
       "      <td>NaN</td>\n",
       "      <td>-3.862727</td>\n",
       "      <td>1</td>\n",
       "      <td>3</td>\n",
       "      <td>Northern</td>\n",
       "      <td>Frost or ice</td>\n",
       "      <td>Single carriageway</td>\n",
       "      <td>30</td>\n",
       "      <td>9:38</td>\n",
       "      <td>Rural</td>\n",
       "      <td>Fine no high winds</td>\n",
       "      <td>Car</td>\n",
       "    </tr>\n",
       "    <tr>\n",
       "      <th>307971</th>\n",
       "      <td>201091NM01964</td>\n",
       "      <td>2/23/2022</td>\n",
       "      <td>Feb</td>\n",
       "      <td>Tuesday</td>\n",
       "      <td>2022</td>\n",
       "      <td>Give way or uncontrolled</td>\n",
       "      <td>T or staggered junction</td>\n",
       "      <td>Serious</td>\n",
       "      <td>57.214898</td>\n",
       "      <td>Darkness - no lighting</td>\n",
       "      <td>Highland</td>\n",
       "      <td>NaN</td>\n",
       "      <td>-3.823997</td>\n",
       "      <td>1</td>\n",
       "      <td>2</td>\n",
       "      <td>Northern</td>\n",
       "      <td>Wet or damp</td>\n",
       "      <td>Single carriageway</td>\n",
       "      <td>60</td>\n",
       "      <td>18:25</td>\n",
       "      <td>Rural</td>\n",
       "      <td>Fine no high winds</td>\n",
       "      <td>Motorcycle over 500cc</td>\n",
       "    </tr>\n",
       "    <tr>\n",
       "      <th>307972</th>\n",
       "      <td>201091NM02142</td>\n",
       "      <td>2/28/2022</td>\n",
       "      <td>Feb</td>\n",
       "      <td>Sunday</td>\n",
       "      <td>2022</td>\n",
       "      <td>Give way or uncontrolled</td>\n",
       "      <td>T or staggered junction</td>\n",
       "      <td>Serious</td>\n",
       "      <td>57.575210</td>\n",
       "      <td>Daylight</td>\n",
       "      <td>Highland</td>\n",
       "      <td>Other object on road</td>\n",
       "      <td>-3.895673</td>\n",
       "      <td>1</td>\n",
       "      <td>1</td>\n",
       "      <td>Northern</td>\n",
       "      <td>Wet or damp</td>\n",
       "      <td>Dual carriageway</td>\n",
       "      <td>60</td>\n",
       "      <td>15:45</td>\n",
       "      <td>Rural</td>\n",
       "      <td>Snowing no high winds</td>\n",
       "      <td>Car</td>\n",
       "    </tr>\n",
       "  </tbody>\n",
       "</table>\n",
       "<p>307973 rows × 23 columns</p>\n",
       "</div>"
      ],
      "text/plain": [
       "       Accident_Index Accident Date Month Day_of_Week  Year  \\\n",
       "0       200901BS70001      1/1/2021   Jan    Thursday  2021   \n",
       "1       200901BS70002      1/5/2021   Jan      Monday  2021   \n",
       "2       200901BS70003      1/4/2021   Jan      Sunday  2021   \n",
       "3       200901BS70004      1/5/2021   Jan      Monday  2021   \n",
       "4       200901BS70005      1/6/2021   Jan     Tuesday  2021   \n",
       "...               ...           ...   ...         ...   ...   \n",
       "307968  201091NM01760     2/18/2022   Feb    Thursday  2022   \n",
       "307969  201091NM01881     2/21/2022   Feb      Sunday  2022   \n",
       "307970  201091NM01935     2/23/2022   Feb     Tuesday  2022   \n",
       "307971  201091NM01964     2/23/2022   Feb     Tuesday  2022   \n",
       "307972  201091NM02142     2/28/2022   Feb      Sunday  2022   \n",
       "\n",
       "                    Junction_Control                      Junction_Detail  \\\n",
       "0           Give way or uncontrolled              T or staggered junction   \n",
       "1           Give way or uncontrolled                           Crossroads   \n",
       "2           Give way or uncontrolled              T or staggered junction   \n",
       "3                Auto traffic signal              T or staggered junction   \n",
       "4                Auto traffic signal                           Crossroads   \n",
       "...                              ...                                  ...   \n",
       "307968  Data missing or out of range  Not at junction or within 20 metres   \n",
       "307969  Data missing or out of range  Not at junction or within 20 metres   \n",
       "307970      Give way or uncontrolled              T or staggered junction   \n",
       "307971      Give way or uncontrolled              T or staggered junction   \n",
       "307972      Give way or uncontrolled              T or staggered junction   \n",
       "\n",
       "       Accident_Severity   Latitude        Light_Conditions  \\\n",
       "0                Serious  51.512273                Daylight   \n",
       "1                Serious  51.514399                Daylight   \n",
       "2                 Slight  51.486668                Daylight   \n",
       "3                Serious  51.507804                Daylight   \n",
       "4                Serious  51.482076   Darkness - lights lit   \n",
       "...                  ...        ...                     ...   \n",
       "307968            Slight  57.374005                Daylight   \n",
       "307969            Slight  57.232273  Darkness - no lighting   \n",
       "307970            Slight  57.585044                Daylight   \n",
       "307971           Serious  57.214898  Darkness - no lighting   \n",
       "307972           Serious  57.575210                Daylight   \n",
       "\n",
       "       Local_Authority_(District)   Carriageway_Hazards  Longitude  \\\n",
       "0          Kensington and Chelsea                   NaN  -0.201349   \n",
       "1          Kensington and Chelsea                   NaN  -0.199248   \n",
       "2          Kensington and Chelsea                   NaN  -0.179599   \n",
       "3          Kensington and Chelsea                   NaN  -0.203110   \n",
       "4          Kensington and Chelsea                   NaN  -0.173445   \n",
       "...                           ...                   ...        ...   \n",
       "307968                   Highland                   NaN  -3.467828   \n",
       "307969                   Highland                   NaN  -3.809281   \n",
       "307970                   Highland                   NaN  -3.862727   \n",
       "307971                   Highland                   NaN  -3.823997   \n",
       "307972                   Highland  Other object on road  -3.895673   \n",
       "\n",
       "        Number_of_Casualties  Number_of_Vehicles         Police_Force  \\\n",
       "0                          1                   2  Metropolitan Police   \n",
       "1                         11                   2  Metropolitan Police   \n",
       "2                          1                   2  Metropolitan Police   \n",
       "3                          1                   2  Metropolitan Police   \n",
       "4                          1                   2  Metropolitan Police   \n",
       "...                      ...                 ...                  ...   \n",
       "307968                     2                   1             Northern   \n",
       "307969                     1                   1             Northern   \n",
       "307970                     1                   3             Northern   \n",
       "307971                     1                   2             Northern   \n",
       "307972                     1                   1             Northern   \n",
       "\n",
       "       Road_Surface_Conditions           Road_Type  Speed_limit   Time  \\\n",
       "0                          Dry      One way street           30  15:11   \n",
       "1                  Wet or damp  Single carriageway           30  10:59   \n",
       "2                          Dry  Single carriageway           30  14:19   \n",
       "3                 Frost or ice  Single carriageway           30   8:10   \n",
       "4                          Dry  Single carriageway           30  17:25   \n",
       "...                        ...                 ...          ...    ...   \n",
       "307968                     Dry  Single carriageway           60   7:00   \n",
       "307969            Frost or ice  Single carriageway           60   3:00   \n",
       "307970            Frost or ice  Single carriageway           30   9:38   \n",
       "307971             Wet or damp  Single carriageway           60  18:25   \n",
       "307972             Wet or damp    Dual carriageway           60  15:45   \n",
       "\n",
       "       Urban_or_Rural_Area     Weather_Conditions           Vehicle_Type  \n",
       "0                    Urban     Fine no high winds                    Car  \n",
       "1                    Urban     Fine no high winds  Taxi/Private hire car  \n",
       "2                    Urban     Fine no high winds  Taxi/Private hire car  \n",
       "3                    Urban                  Other  Motorcycle over 500cc  \n",
       "4                    Urban     Fine no high winds                    Car  \n",
       "...                    ...                    ...                    ...  \n",
       "307968               Rural     Fine no high winds                    Car  \n",
       "307969               Rural     Fine no high winds                    Car  \n",
       "307970               Rural     Fine no high winds                    Car  \n",
       "307971               Rural     Fine no high winds  Motorcycle over 500cc  \n",
       "307972               Rural  Snowing no high winds                    Car  \n",
       "\n",
       "[307973 rows x 23 columns]"
      ]
     },
     "execution_count": 112,
     "metadata": {},
     "output_type": "execute_result"
    }
   ],
   "source": [
    "df"
   ]
  },
  {
   "cell_type": "markdown",
   "id": "59c2559a-b3b5-4a9e-9909-5bbfdb4eb558",
   "metadata": {},
   "source": [
    "#### To show the summary of categorical columns"
   ]
  },
  {
   "cell_type": "code",
   "execution_count": 87,
   "id": "da2366a2-79e9-4e22-adcb-6f3d94d13733",
   "metadata": {},
   "outputs": [
    {
     "name": "stdout",
     "output_type": "stream",
     "text": [
      "Categorical Summary:\n",
      "        Accident_Index Accident Date   Month Day_of_Week  \\\n",
      "count          307973        307973  307973      307973   \n",
      "unique         197644           730      12           7   \n",
      "top          2.01E+12    11/13/2021     Nov      Friday   \n",
      "freq           110304           692   29095       50529   \n",
      "\n",
      "                Junction_Control                      Junction_Detail  \\\n",
      "count                     307973                               307973   \n",
      "unique                         6                                    9   \n",
      "top     Give way or uncontrolled  Not at junction or within 20 metres   \n",
      "freq                      150045                               123094   \n",
      "\n",
      "       Accident_Severity Light_Conditions Local_Authority_(District)  \\\n",
      "count             307973           307973                     307973   \n",
      "unique                 3                5                        422   \n",
      "top               Slight         Daylight                 Birmingham   \n",
      "freq              263280           227286                       6165   \n",
      "\n",
      "         Carriageway_Hazards         Police_Force Road_Surface_Conditions  \\\n",
      "count                   5424               307973                  307656   \n",
      "unique                     5                   51                       5   \n",
      "top     Other object on road  Metropolitan Police                     Dry   \n",
      "freq                    2243                46789                  208967   \n",
      "\n",
      "                 Road_Type    Time Urban_or_Rural_Area  Weather_Conditions  \\\n",
      "count               306439  307956              307973              301916   \n",
      "unique                   5    1439                   2                   8   \n",
      "top     Single carriageway   17:00               Urban  Fine no high winds   \n",
      "freq                230612    2933              198532              244496   \n",
      "\n",
      "       Vehicle_Type  \n",
      "count        307973  \n",
      "unique           15  \n",
      "top             Car  \n",
      "freq         239794  \n"
     ]
    }
   ],
   "source": [
    "# Statistical summary of categorical columns\n",
    "categorical_summary = df.describe(include='object')\n",
    "print(\"Categorical Summary:\\n\", categorical_summary)"
   ]
  },
  {
   "cell_type": "markdown",
   "id": "1b4ef517-b8ec-48c5-b422-4d778440c836",
   "metadata": {},
   "source": [
    "#### To provide a concise summary of the dataframe"
   ]
  },
  {
   "cell_type": "code",
   "execution_count": 113,
   "id": "9c067937-2a38-4636-9d4d-864ce8b37ee7",
   "metadata": {},
   "outputs": [
    {
     "name": "stdout",
     "output_type": "stream",
     "text": [
      "<class 'pandas.core.frame.DataFrame'>\n",
      "RangeIndex: 307973 entries, 0 to 307972\n",
      "Data columns (total 23 columns):\n",
      " #   Column                      Non-Null Count   Dtype  \n",
      "---  ------                      --------------   -----  \n",
      " 0   Accident_Index              307973 non-null  object \n",
      " 1   Accident Date               307973 non-null  object \n",
      " 2   Month                       307973 non-null  object \n",
      " 3   Day_of_Week                 307973 non-null  object \n",
      " 4   Year                        307973 non-null  int64  \n",
      " 5   Junction_Control            307973 non-null  object \n",
      " 6   Junction_Detail             307973 non-null  object \n",
      " 7   Accident_Severity           307973 non-null  object \n",
      " 8   Latitude                    307973 non-null  float64\n",
      " 9   Light_Conditions            307973 non-null  object \n",
      " 10  Local_Authority_(District)  307973 non-null  object \n",
      " 11  Carriageway_Hazards         5424 non-null    object \n",
      " 12  Longitude                   307973 non-null  float64\n",
      " 13  Number_of_Casualties        307973 non-null  int64  \n",
      " 14  Number_of_Vehicles          307973 non-null  int64  \n",
      " 15  Police_Force                307973 non-null  object \n",
      " 16  Road_Surface_Conditions     307656 non-null  object \n",
      " 17  Road_Type                   306439 non-null  object \n",
      " 18  Speed_limit                 307973 non-null  int64  \n",
      " 19  Time                        307956 non-null  object \n",
      " 20  Urban_or_Rural_Area         307973 non-null  object \n",
      " 21  Weather_Conditions          301916 non-null  object \n",
      " 22  Vehicle_Type                307973 non-null  object \n",
      "dtypes: float64(2), int64(4), object(17)\n",
      "memory usage: 54.0+ MB\n"
     ]
    }
   ],
   "source": [
    "df.info()"
   ]
  },
  {
   "cell_type": "markdown",
   "id": "9d6cd33c-532c-4db7-b90e-4e434c36bf78",
   "metadata": {},
   "source": [
    "#### To provide a descriptive statistics for numerical columns"
   ]
  },
  {
   "cell_type": "code",
   "execution_count": 114,
   "id": "fb294712-2849-4736-8b0c-ed89cb2112e7",
   "metadata": {},
   "outputs": [
    {
     "data": {
      "text/html": [
       "<div>\n",
       "<style scoped>\n",
       "    .dataframe tbody tr th:only-of-type {\n",
       "        vertical-align: middle;\n",
       "    }\n",
       "\n",
       "    .dataframe tbody tr th {\n",
       "        vertical-align: top;\n",
       "    }\n",
       "\n",
       "    .dataframe thead th {\n",
       "        text-align: right;\n",
       "    }\n",
       "</style>\n",
       "<table border=\"1\" class=\"dataframe\">\n",
       "  <thead>\n",
       "    <tr style=\"text-align: right;\">\n",
       "      <th></th>\n",
       "      <th>Year</th>\n",
       "      <th>Latitude</th>\n",
       "      <th>Longitude</th>\n",
       "      <th>Number_of_Casualties</th>\n",
       "      <th>Number_of_Vehicles</th>\n",
       "      <th>Speed_limit</th>\n",
       "    </tr>\n",
       "  </thead>\n",
       "  <tbody>\n",
       "    <tr>\n",
       "      <th>count</th>\n",
       "      <td>307973.000000</td>\n",
       "      <td>307973.000000</td>\n",
       "      <td>307973.000000</td>\n",
       "      <td>307973.000000</td>\n",
       "      <td>307973.000000</td>\n",
       "      <td>307973.000000</td>\n",
       "    </tr>\n",
       "    <tr>\n",
       "      <th>mean</th>\n",
       "      <td>2021.468934</td>\n",
       "      <td>52.487005</td>\n",
       "      <td>-1.368884</td>\n",
       "      <td>1.356882</td>\n",
       "      <td>1.829063</td>\n",
       "      <td>38.866037</td>\n",
       "    </tr>\n",
       "    <tr>\n",
       "      <th>std</th>\n",
       "      <td>0.499035</td>\n",
       "      <td>1.339011</td>\n",
       "      <td>1.356092</td>\n",
       "      <td>0.815857</td>\n",
       "      <td>0.710477</td>\n",
       "      <td>14.032933</td>\n",
       "    </tr>\n",
       "    <tr>\n",
       "      <th>min</th>\n",
       "      <td>2021.000000</td>\n",
       "      <td>49.914488</td>\n",
       "      <td>-7.516225</td>\n",
       "      <td>1.000000</td>\n",
       "      <td>1.000000</td>\n",
       "      <td>10.000000</td>\n",
       "    </tr>\n",
       "    <tr>\n",
       "      <th>25%</th>\n",
       "      <td>2021.000000</td>\n",
       "      <td>51.485248</td>\n",
       "      <td>-2.247937</td>\n",
       "      <td>1.000000</td>\n",
       "      <td>1.000000</td>\n",
       "      <td>30.000000</td>\n",
       "    </tr>\n",
       "    <tr>\n",
       "      <th>50%</th>\n",
       "      <td>2021.000000</td>\n",
       "      <td>52.225943</td>\n",
       "      <td>-1.349258</td>\n",
       "      <td>1.000000</td>\n",
       "      <td>2.000000</td>\n",
       "      <td>30.000000</td>\n",
       "    </tr>\n",
       "    <tr>\n",
       "      <th>75%</th>\n",
       "      <td>2022.000000</td>\n",
       "      <td>53.415517</td>\n",
       "      <td>-0.206810</td>\n",
       "      <td>1.000000</td>\n",
       "      <td>2.000000</td>\n",
       "      <td>50.000000</td>\n",
       "    </tr>\n",
       "    <tr>\n",
       "      <th>max</th>\n",
       "      <td>2022.000000</td>\n",
       "      <td>60.598055</td>\n",
       "      <td>1.759398</td>\n",
       "      <td>48.000000</td>\n",
       "      <td>32.000000</td>\n",
       "      <td>70.000000</td>\n",
       "    </tr>\n",
       "  </tbody>\n",
       "</table>\n",
       "</div>"
      ],
      "text/plain": [
       "                Year       Latitude      Longitude  Number_of_Casualties  \\\n",
       "count  307973.000000  307973.000000  307973.000000         307973.000000   \n",
       "mean     2021.468934      52.487005      -1.368884              1.356882   \n",
       "std         0.499035       1.339011       1.356092              0.815857   \n",
       "min      2021.000000      49.914488      -7.516225              1.000000   \n",
       "25%      2021.000000      51.485248      -2.247937              1.000000   \n",
       "50%      2021.000000      52.225943      -1.349258              1.000000   \n",
       "75%      2022.000000      53.415517      -0.206810              1.000000   \n",
       "max      2022.000000      60.598055       1.759398             48.000000   \n",
       "\n",
       "       Number_of_Vehicles    Speed_limit  \n",
       "count       307973.000000  307973.000000  \n",
       "mean             1.829063      38.866037  \n",
       "std              0.710477      14.032933  \n",
       "min              1.000000      10.000000  \n",
       "25%              1.000000      30.000000  \n",
       "50%              2.000000      30.000000  \n",
       "75%              2.000000      50.000000  \n",
       "max             32.000000      70.000000  "
      ]
     },
     "execution_count": 114,
     "metadata": {},
     "output_type": "execute_result"
    }
   ],
   "source": [
    "df.describe()"
   ]
  },
  {
   "cell_type": "markdown",
   "id": "bfd4c5cf-d98d-4005-ad02-4dd066b75adb",
   "metadata": {},
   "source": [
    "#### To display the first few rows of the dataframe"
   ]
  },
  {
   "cell_type": "code",
   "execution_count": 115,
   "id": "d6fe127e-56b4-4f0e-9202-8016e6bf7194",
   "metadata": {},
   "outputs": [
    {
     "data": {
      "text/html": [
       "<div>\n",
       "<style scoped>\n",
       "    .dataframe tbody tr th:only-of-type {\n",
       "        vertical-align: middle;\n",
       "    }\n",
       "\n",
       "    .dataframe tbody tr th {\n",
       "        vertical-align: top;\n",
       "    }\n",
       "\n",
       "    .dataframe thead th {\n",
       "        text-align: right;\n",
       "    }\n",
       "</style>\n",
       "<table border=\"1\" class=\"dataframe\">\n",
       "  <thead>\n",
       "    <tr style=\"text-align: right;\">\n",
       "      <th></th>\n",
       "      <th>Accident_Index</th>\n",
       "      <th>Accident Date</th>\n",
       "      <th>Month</th>\n",
       "      <th>Day_of_Week</th>\n",
       "      <th>Year</th>\n",
       "      <th>Junction_Control</th>\n",
       "      <th>Junction_Detail</th>\n",
       "      <th>Accident_Severity</th>\n",
       "      <th>Latitude</th>\n",
       "      <th>Light_Conditions</th>\n",
       "      <th>Local_Authority_(District)</th>\n",
       "      <th>Carriageway_Hazards</th>\n",
       "      <th>Longitude</th>\n",
       "      <th>Number_of_Casualties</th>\n",
       "      <th>Number_of_Vehicles</th>\n",
       "      <th>Police_Force</th>\n",
       "      <th>Road_Surface_Conditions</th>\n",
       "      <th>Road_Type</th>\n",
       "      <th>Speed_limit</th>\n",
       "      <th>Time</th>\n",
       "      <th>Urban_or_Rural_Area</th>\n",
       "      <th>Weather_Conditions</th>\n",
       "      <th>Vehicle_Type</th>\n",
       "    </tr>\n",
       "  </thead>\n",
       "  <tbody>\n",
       "    <tr>\n",
       "      <th>0</th>\n",
       "      <td>200901BS70001</td>\n",
       "      <td>1/1/2021</td>\n",
       "      <td>Jan</td>\n",
       "      <td>Thursday</td>\n",
       "      <td>2021</td>\n",
       "      <td>Give way or uncontrolled</td>\n",
       "      <td>T or staggered junction</td>\n",
       "      <td>Serious</td>\n",
       "      <td>51.512273</td>\n",
       "      <td>Daylight</td>\n",
       "      <td>Kensington and Chelsea</td>\n",
       "      <td>NaN</td>\n",
       "      <td>-0.201349</td>\n",
       "      <td>1</td>\n",
       "      <td>2</td>\n",
       "      <td>Metropolitan Police</td>\n",
       "      <td>Dry</td>\n",
       "      <td>One way street</td>\n",
       "      <td>30</td>\n",
       "      <td>15:11</td>\n",
       "      <td>Urban</td>\n",
       "      <td>Fine no high winds</td>\n",
       "      <td>Car</td>\n",
       "    </tr>\n",
       "    <tr>\n",
       "      <th>1</th>\n",
       "      <td>200901BS70002</td>\n",
       "      <td>1/5/2021</td>\n",
       "      <td>Jan</td>\n",
       "      <td>Monday</td>\n",
       "      <td>2021</td>\n",
       "      <td>Give way or uncontrolled</td>\n",
       "      <td>Crossroads</td>\n",
       "      <td>Serious</td>\n",
       "      <td>51.514399</td>\n",
       "      <td>Daylight</td>\n",
       "      <td>Kensington and Chelsea</td>\n",
       "      <td>NaN</td>\n",
       "      <td>-0.199248</td>\n",
       "      <td>11</td>\n",
       "      <td>2</td>\n",
       "      <td>Metropolitan Police</td>\n",
       "      <td>Wet or damp</td>\n",
       "      <td>Single carriageway</td>\n",
       "      <td>30</td>\n",
       "      <td>10:59</td>\n",
       "      <td>Urban</td>\n",
       "      <td>Fine no high winds</td>\n",
       "      <td>Taxi/Private hire car</td>\n",
       "    </tr>\n",
       "    <tr>\n",
       "      <th>2</th>\n",
       "      <td>200901BS70003</td>\n",
       "      <td>1/4/2021</td>\n",
       "      <td>Jan</td>\n",
       "      <td>Sunday</td>\n",
       "      <td>2021</td>\n",
       "      <td>Give way or uncontrolled</td>\n",
       "      <td>T or staggered junction</td>\n",
       "      <td>Slight</td>\n",
       "      <td>51.486668</td>\n",
       "      <td>Daylight</td>\n",
       "      <td>Kensington and Chelsea</td>\n",
       "      <td>NaN</td>\n",
       "      <td>-0.179599</td>\n",
       "      <td>1</td>\n",
       "      <td>2</td>\n",
       "      <td>Metropolitan Police</td>\n",
       "      <td>Dry</td>\n",
       "      <td>Single carriageway</td>\n",
       "      <td>30</td>\n",
       "      <td>14:19</td>\n",
       "      <td>Urban</td>\n",
       "      <td>Fine no high winds</td>\n",
       "      <td>Taxi/Private hire car</td>\n",
       "    </tr>\n",
       "    <tr>\n",
       "      <th>3</th>\n",
       "      <td>200901BS70004</td>\n",
       "      <td>1/5/2021</td>\n",
       "      <td>Jan</td>\n",
       "      <td>Monday</td>\n",
       "      <td>2021</td>\n",
       "      <td>Auto traffic signal</td>\n",
       "      <td>T or staggered junction</td>\n",
       "      <td>Serious</td>\n",
       "      <td>51.507804</td>\n",
       "      <td>Daylight</td>\n",
       "      <td>Kensington and Chelsea</td>\n",
       "      <td>NaN</td>\n",
       "      <td>-0.203110</td>\n",
       "      <td>1</td>\n",
       "      <td>2</td>\n",
       "      <td>Metropolitan Police</td>\n",
       "      <td>Frost or ice</td>\n",
       "      <td>Single carriageway</td>\n",
       "      <td>30</td>\n",
       "      <td>8:10</td>\n",
       "      <td>Urban</td>\n",
       "      <td>Other</td>\n",
       "      <td>Motorcycle over 500cc</td>\n",
       "    </tr>\n",
       "    <tr>\n",
       "      <th>4</th>\n",
       "      <td>200901BS70005</td>\n",
       "      <td>1/6/2021</td>\n",
       "      <td>Jan</td>\n",
       "      <td>Tuesday</td>\n",
       "      <td>2021</td>\n",
       "      <td>Auto traffic signal</td>\n",
       "      <td>Crossroads</td>\n",
       "      <td>Serious</td>\n",
       "      <td>51.482076</td>\n",
       "      <td>Darkness - lights lit</td>\n",
       "      <td>Kensington and Chelsea</td>\n",
       "      <td>NaN</td>\n",
       "      <td>-0.173445</td>\n",
       "      <td>1</td>\n",
       "      <td>2</td>\n",
       "      <td>Metropolitan Police</td>\n",
       "      <td>Dry</td>\n",
       "      <td>Single carriageway</td>\n",
       "      <td>30</td>\n",
       "      <td>17:25</td>\n",
       "      <td>Urban</td>\n",
       "      <td>Fine no high winds</td>\n",
       "      <td>Car</td>\n",
       "    </tr>\n",
       "  </tbody>\n",
       "</table>\n",
       "</div>"
      ],
      "text/plain": [
       "  Accident_Index Accident Date Month Day_of_Week  Year  \\\n",
       "0  200901BS70001      1/1/2021   Jan    Thursday  2021   \n",
       "1  200901BS70002      1/5/2021   Jan      Monday  2021   \n",
       "2  200901BS70003      1/4/2021   Jan      Sunday  2021   \n",
       "3  200901BS70004      1/5/2021   Jan      Monday  2021   \n",
       "4  200901BS70005      1/6/2021   Jan     Tuesday  2021   \n",
       "\n",
       "           Junction_Control          Junction_Detail Accident_Severity  \\\n",
       "0  Give way or uncontrolled  T or staggered junction           Serious   \n",
       "1  Give way or uncontrolled               Crossroads           Serious   \n",
       "2  Give way or uncontrolled  T or staggered junction            Slight   \n",
       "3       Auto traffic signal  T or staggered junction           Serious   \n",
       "4       Auto traffic signal               Crossroads           Serious   \n",
       "\n",
       "    Latitude       Light_Conditions Local_Authority_(District)  \\\n",
       "0  51.512273               Daylight     Kensington and Chelsea   \n",
       "1  51.514399               Daylight     Kensington and Chelsea   \n",
       "2  51.486668               Daylight     Kensington and Chelsea   \n",
       "3  51.507804               Daylight     Kensington and Chelsea   \n",
       "4  51.482076  Darkness - lights lit     Kensington and Chelsea   \n",
       "\n",
       "  Carriageway_Hazards  Longitude  Number_of_Casualties  Number_of_Vehicles  \\\n",
       "0                 NaN  -0.201349                     1                   2   \n",
       "1                 NaN  -0.199248                    11                   2   \n",
       "2                 NaN  -0.179599                     1                   2   \n",
       "3                 NaN  -0.203110                     1                   2   \n",
       "4                 NaN  -0.173445                     1                   2   \n",
       "\n",
       "          Police_Force Road_Surface_Conditions           Road_Type  \\\n",
       "0  Metropolitan Police                     Dry      One way street   \n",
       "1  Metropolitan Police             Wet or damp  Single carriageway   \n",
       "2  Metropolitan Police                     Dry  Single carriageway   \n",
       "3  Metropolitan Police            Frost or ice  Single carriageway   \n",
       "4  Metropolitan Police                     Dry  Single carriageway   \n",
       "\n",
       "   Speed_limit   Time Urban_or_Rural_Area  Weather_Conditions  \\\n",
       "0           30  15:11               Urban  Fine no high winds   \n",
       "1           30  10:59               Urban  Fine no high winds   \n",
       "2           30  14:19               Urban  Fine no high winds   \n",
       "3           30   8:10               Urban               Other   \n",
       "4           30  17:25               Urban  Fine no high winds   \n",
       "\n",
       "            Vehicle_Type  \n",
       "0                    Car  \n",
       "1  Taxi/Private hire car  \n",
       "2  Taxi/Private hire car  \n",
       "3  Motorcycle over 500cc  \n",
       "4                    Car  "
      ]
     },
     "execution_count": 115,
     "metadata": {},
     "output_type": "execute_result"
    }
   ],
   "source": [
    "df.head()"
   ]
  },
  {
   "cell_type": "markdown",
   "id": "3af7066b-bafd-4509-9292-abfbc6869630",
   "metadata": {},
   "source": [
    "#### To display the last few rows of the dataframe"
   ]
  },
  {
   "cell_type": "code",
   "execution_count": 116,
   "id": "0bf9ea9f-c409-4c9c-9c93-b2218bced207",
   "metadata": {},
   "outputs": [
    {
     "data": {
      "text/html": [
       "<div>\n",
       "<style scoped>\n",
       "    .dataframe tbody tr th:only-of-type {\n",
       "        vertical-align: middle;\n",
       "    }\n",
       "\n",
       "    .dataframe tbody tr th {\n",
       "        vertical-align: top;\n",
       "    }\n",
       "\n",
       "    .dataframe thead th {\n",
       "        text-align: right;\n",
       "    }\n",
       "</style>\n",
       "<table border=\"1\" class=\"dataframe\">\n",
       "  <thead>\n",
       "    <tr style=\"text-align: right;\">\n",
       "      <th></th>\n",
       "      <th>Accident_Index</th>\n",
       "      <th>Accident Date</th>\n",
       "      <th>Month</th>\n",
       "      <th>Day_of_Week</th>\n",
       "      <th>Year</th>\n",
       "      <th>Junction_Control</th>\n",
       "      <th>Junction_Detail</th>\n",
       "      <th>Accident_Severity</th>\n",
       "      <th>Latitude</th>\n",
       "      <th>Light_Conditions</th>\n",
       "      <th>Local_Authority_(District)</th>\n",
       "      <th>Carriageway_Hazards</th>\n",
       "      <th>Longitude</th>\n",
       "      <th>Number_of_Casualties</th>\n",
       "      <th>Number_of_Vehicles</th>\n",
       "      <th>Police_Force</th>\n",
       "      <th>Road_Surface_Conditions</th>\n",
       "      <th>Road_Type</th>\n",
       "      <th>Speed_limit</th>\n",
       "      <th>Time</th>\n",
       "      <th>Urban_or_Rural_Area</th>\n",
       "      <th>Weather_Conditions</th>\n",
       "      <th>Vehicle_Type</th>\n",
       "    </tr>\n",
       "  </thead>\n",
       "  <tbody>\n",
       "    <tr>\n",
       "      <th>307968</th>\n",
       "      <td>201091NM01760</td>\n",
       "      <td>2/18/2022</td>\n",
       "      <td>Feb</td>\n",
       "      <td>Thursday</td>\n",
       "      <td>2022</td>\n",
       "      <td>Data missing or out of range</td>\n",
       "      <td>Not at junction or within 20 metres</td>\n",
       "      <td>Slight</td>\n",
       "      <td>57.374005</td>\n",
       "      <td>Daylight</td>\n",
       "      <td>Highland</td>\n",
       "      <td>NaN</td>\n",
       "      <td>-3.467828</td>\n",
       "      <td>2</td>\n",
       "      <td>1</td>\n",
       "      <td>Northern</td>\n",
       "      <td>Dry</td>\n",
       "      <td>Single carriageway</td>\n",
       "      <td>60</td>\n",
       "      <td>7:00</td>\n",
       "      <td>Rural</td>\n",
       "      <td>Fine no high winds</td>\n",
       "      <td>Car</td>\n",
       "    </tr>\n",
       "    <tr>\n",
       "      <th>307969</th>\n",
       "      <td>201091NM01881</td>\n",
       "      <td>2/21/2022</td>\n",
       "      <td>Feb</td>\n",
       "      <td>Sunday</td>\n",
       "      <td>2022</td>\n",
       "      <td>Data missing or out of range</td>\n",
       "      <td>Not at junction or within 20 metres</td>\n",
       "      <td>Slight</td>\n",
       "      <td>57.232273</td>\n",
       "      <td>Darkness - no lighting</td>\n",
       "      <td>Highland</td>\n",
       "      <td>NaN</td>\n",
       "      <td>-3.809281</td>\n",
       "      <td>1</td>\n",
       "      <td>1</td>\n",
       "      <td>Northern</td>\n",
       "      <td>Frost or ice</td>\n",
       "      <td>Single carriageway</td>\n",
       "      <td>60</td>\n",
       "      <td>3:00</td>\n",
       "      <td>Rural</td>\n",
       "      <td>Fine no high winds</td>\n",
       "      <td>Car</td>\n",
       "    </tr>\n",
       "    <tr>\n",
       "      <th>307970</th>\n",
       "      <td>201091NM01935</td>\n",
       "      <td>2/23/2022</td>\n",
       "      <td>Feb</td>\n",
       "      <td>Tuesday</td>\n",
       "      <td>2022</td>\n",
       "      <td>Give way or uncontrolled</td>\n",
       "      <td>T or staggered junction</td>\n",
       "      <td>Slight</td>\n",
       "      <td>57.585044</td>\n",
       "      <td>Daylight</td>\n",
       "      <td>Highland</td>\n",
       "      <td>NaN</td>\n",
       "      <td>-3.862727</td>\n",
       "      <td>1</td>\n",
       "      <td>3</td>\n",
       "      <td>Northern</td>\n",
       "      <td>Frost or ice</td>\n",
       "      <td>Single carriageway</td>\n",
       "      <td>30</td>\n",
       "      <td>9:38</td>\n",
       "      <td>Rural</td>\n",
       "      <td>Fine no high winds</td>\n",
       "      <td>Car</td>\n",
       "    </tr>\n",
       "    <tr>\n",
       "      <th>307971</th>\n",
       "      <td>201091NM01964</td>\n",
       "      <td>2/23/2022</td>\n",
       "      <td>Feb</td>\n",
       "      <td>Tuesday</td>\n",
       "      <td>2022</td>\n",
       "      <td>Give way or uncontrolled</td>\n",
       "      <td>T or staggered junction</td>\n",
       "      <td>Serious</td>\n",
       "      <td>57.214898</td>\n",
       "      <td>Darkness - no lighting</td>\n",
       "      <td>Highland</td>\n",
       "      <td>NaN</td>\n",
       "      <td>-3.823997</td>\n",
       "      <td>1</td>\n",
       "      <td>2</td>\n",
       "      <td>Northern</td>\n",
       "      <td>Wet or damp</td>\n",
       "      <td>Single carriageway</td>\n",
       "      <td>60</td>\n",
       "      <td>18:25</td>\n",
       "      <td>Rural</td>\n",
       "      <td>Fine no high winds</td>\n",
       "      <td>Motorcycle over 500cc</td>\n",
       "    </tr>\n",
       "    <tr>\n",
       "      <th>307972</th>\n",
       "      <td>201091NM02142</td>\n",
       "      <td>2/28/2022</td>\n",
       "      <td>Feb</td>\n",
       "      <td>Sunday</td>\n",
       "      <td>2022</td>\n",
       "      <td>Give way or uncontrolled</td>\n",
       "      <td>T or staggered junction</td>\n",
       "      <td>Serious</td>\n",
       "      <td>57.575210</td>\n",
       "      <td>Daylight</td>\n",
       "      <td>Highland</td>\n",
       "      <td>Other object on road</td>\n",
       "      <td>-3.895673</td>\n",
       "      <td>1</td>\n",
       "      <td>1</td>\n",
       "      <td>Northern</td>\n",
       "      <td>Wet or damp</td>\n",
       "      <td>Dual carriageway</td>\n",
       "      <td>60</td>\n",
       "      <td>15:45</td>\n",
       "      <td>Rural</td>\n",
       "      <td>Snowing no high winds</td>\n",
       "      <td>Car</td>\n",
       "    </tr>\n",
       "  </tbody>\n",
       "</table>\n",
       "</div>"
      ],
      "text/plain": [
       "       Accident_Index Accident Date Month Day_of_Week  Year  \\\n",
       "307968  201091NM01760     2/18/2022   Feb    Thursday  2022   \n",
       "307969  201091NM01881     2/21/2022   Feb      Sunday  2022   \n",
       "307970  201091NM01935     2/23/2022   Feb     Tuesday  2022   \n",
       "307971  201091NM01964     2/23/2022   Feb     Tuesday  2022   \n",
       "307972  201091NM02142     2/28/2022   Feb      Sunday  2022   \n",
       "\n",
       "                    Junction_Control                      Junction_Detail  \\\n",
       "307968  Data missing or out of range  Not at junction or within 20 metres   \n",
       "307969  Data missing or out of range  Not at junction or within 20 metres   \n",
       "307970      Give way or uncontrolled              T or staggered junction   \n",
       "307971      Give way or uncontrolled              T or staggered junction   \n",
       "307972      Give way or uncontrolled              T or staggered junction   \n",
       "\n",
       "       Accident_Severity   Latitude        Light_Conditions  \\\n",
       "307968            Slight  57.374005                Daylight   \n",
       "307969            Slight  57.232273  Darkness - no lighting   \n",
       "307970            Slight  57.585044                Daylight   \n",
       "307971           Serious  57.214898  Darkness - no lighting   \n",
       "307972           Serious  57.575210                Daylight   \n",
       "\n",
       "       Local_Authority_(District)   Carriageway_Hazards  Longitude  \\\n",
       "307968                   Highland                   NaN  -3.467828   \n",
       "307969                   Highland                   NaN  -3.809281   \n",
       "307970                   Highland                   NaN  -3.862727   \n",
       "307971                   Highland                   NaN  -3.823997   \n",
       "307972                   Highland  Other object on road  -3.895673   \n",
       "\n",
       "        Number_of_Casualties  Number_of_Vehicles Police_Force  \\\n",
       "307968                     2                   1     Northern   \n",
       "307969                     1                   1     Northern   \n",
       "307970                     1                   3     Northern   \n",
       "307971                     1                   2     Northern   \n",
       "307972                     1                   1     Northern   \n",
       "\n",
       "       Road_Surface_Conditions           Road_Type  Speed_limit   Time  \\\n",
       "307968                     Dry  Single carriageway           60   7:00   \n",
       "307969            Frost or ice  Single carriageway           60   3:00   \n",
       "307970            Frost or ice  Single carriageway           30   9:38   \n",
       "307971             Wet or damp  Single carriageway           60  18:25   \n",
       "307972             Wet or damp    Dual carriageway           60  15:45   \n",
       "\n",
       "       Urban_or_Rural_Area     Weather_Conditions           Vehicle_Type  \n",
       "307968               Rural     Fine no high winds                    Car  \n",
       "307969               Rural     Fine no high winds                    Car  \n",
       "307970               Rural     Fine no high winds                    Car  \n",
       "307971               Rural     Fine no high winds  Motorcycle over 500cc  \n",
       "307972               Rural  Snowing no high winds                    Car  "
      ]
     },
     "execution_count": 116,
     "metadata": {},
     "output_type": "execute_result"
    }
   ],
   "source": [
    "df.tail()"
   ]
  },
  {
   "cell_type": "markdown",
   "id": "a1433954-b6f8-4fc7-a69f-6972f4545752",
   "metadata": {},
   "source": [
    "#### Returns the dimension of the dataframe(rows,columns)"
   ]
  },
  {
   "cell_type": "code",
   "execution_count": 117,
   "id": "6647046c-71c1-43d8-a496-be360c82849a",
   "metadata": {},
   "outputs": [
    {
     "data": {
      "text/plain": [
       "(307973, 23)"
      ]
     },
     "execution_count": 117,
     "metadata": {},
     "output_type": "execute_result"
    }
   ],
   "source": [
    "df.shape   #how many rows and columns are there"
   ]
  },
  {
   "cell_type": "markdown",
   "id": "6ea0d823-8193-43fd-a0be-23b2d759c609",
   "metadata": {},
   "source": [
    "#### To returns the column label of the dataframe"
   ]
  },
  {
   "cell_type": "code",
   "execution_count": 118,
   "id": "ceed5bb0-81b9-4143-a9a4-ef73112dd01b",
   "metadata": {},
   "outputs": [
    {
     "data": {
      "text/plain": [
       "Index(['Accident_Index', 'Accident Date', 'Month', 'Day_of_Week', 'Year',\n",
       "       'Junction_Control', 'Junction_Detail', 'Accident_Severity', 'Latitude',\n",
       "       'Light_Conditions', 'Local_Authority_(District)', 'Carriageway_Hazards',\n",
       "       'Longitude', 'Number_of_Casualties', 'Number_of_Vehicles',\n",
       "       'Police_Force', 'Road_Surface_Conditions', 'Road_Type', 'Speed_limit',\n",
       "       'Time', 'Urban_or_Rural_Area', 'Weather_Conditions', 'Vehicle_Type'],\n",
       "      dtype='object')"
      ]
     },
     "execution_count": 118,
     "metadata": {},
     "output_type": "execute_result"
    }
   ],
   "source": [
    "df.columns     #column name"
   ]
  },
  {
   "cell_type": "markdown",
   "id": "fb3a6453-b7f2-4fd2-980a-bc3e7fa18d11",
   "metadata": {},
   "source": [
    "#### Checking for a missing values"
   ]
  },
  {
   "cell_type": "code",
   "execution_count": 119,
   "id": "6a02be5c-9305-4b21-bda0-3d8748e47b3f",
   "metadata": {},
   "outputs": [
    {
     "name": "stdout",
     "output_type": "stream",
     "text": [
      "Missing Values per Column:\n",
      " Accident_Index                     0\n",
      "Accident Date                      0\n",
      "Month                              0\n",
      "Day_of_Week                        0\n",
      "Year                               0\n",
      "Junction_Control                   0\n",
      "Junction_Detail                    0\n",
      "Accident_Severity                  0\n",
      "Latitude                           0\n",
      "Light_Conditions                   0\n",
      "Local_Authority_(District)         0\n",
      "Carriageway_Hazards           302549\n",
      "Longitude                          0\n",
      "Number_of_Casualties               0\n",
      "Number_of_Vehicles                 0\n",
      "Police_Force                       0\n",
      "Road_Surface_Conditions          317\n",
      "Road_Type                       1534\n",
      "Speed_limit                        0\n",
      "Time                              17\n",
      "Urban_or_Rural_Area                0\n",
      "Weather_Conditions              6057\n",
      "Vehicle_Type                       0\n",
      "dtype: int64\n"
     ]
    }
   ],
   "source": [
    "missing_values = df.isnull().sum()\n",
    "print(\"Missing Values per Column:\\n\", missing_values)"
   ]
  },
  {
   "cell_type": "markdown",
   "id": "368006ed-0cf5-4148-aabd-3e5c5e7f22d0",
   "metadata": {},
   "source": [
    "#### To find the unique values in the particular column"
   ]
  },
  {
   "cell_type": "code",
   "execution_count": 120,
   "id": "78c46b78-0773-4895-adc7-82f58850a92e",
   "metadata": {},
   "outputs": [
    {
     "data": {
      "text/plain": [
       "array(['Fine no high winds', 'Other', 'Raining no high winds',\n",
       "       'Snowing no high winds', 'Fine + high winds',\n",
       "       'Raining + high winds', nan, 'Snowing + high winds', 'Fog or mist'],\n",
       "      dtype=object)"
      ]
     },
     "execution_count": 120,
     "metadata": {},
     "output_type": "execute_result"
    }
   ],
   "source": [
    "df['Weather_Conditions'].unique()      "
   ]
  },
  {
   "cell_type": "markdown",
   "id": "3620d53c-c480-4a88-b11d-38d048cbec92",
   "metadata": {},
   "source": [
    "#### Length of the dataframe"
   ]
  },
  {
   "cell_type": "code",
   "execution_count": 121,
   "id": "281a8029-2b10-405c-840f-744adb7b0bbf",
   "metadata": {},
   "outputs": [
    {
     "data": {
      "text/plain": [
       "307973"
      ]
     },
     "execution_count": 121,
     "metadata": {},
     "output_type": "execute_result"
    }
   ],
   "source": [
    "len(df)"
   ]
  },
  {
   "cell_type": "markdown",
   "id": "9d38715b-ea05-4ce5-9244-59d6155a1989",
   "metadata": {},
   "source": [
    "#### Returns a series of counts in particular column"
   ]
  },
  {
   "cell_type": "code",
   "execution_count": 13,
   "id": "9babc550-b9ac-438f-a172-83c360394a3f",
   "metadata": {},
   "outputs": [],
   "source": [
    "Light_Conditions_val_count=df['Light_Conditions'].value_counts()  "
   ]
  },
  {
   "cell_type": "code",
   "execution_count": 14,
   "id": "17f1fb68-8049-4a01-9211-c02daa1d248c",
   "metadata": {},
   "outputs": [
    {
     "data": {
      "text/plain": [
       "Light_Conditions\n",
       "Daylight                       227286\n",
       "Darkness - lights lit           60093\n",
       "Darkness - no lighting          16528\n",
       "Darkness - lighting unknown      2924\n",
       "Darkness - lights unlit          1142\n",
       "Name: count, dtype: int64"
      ]
     },
     "execution_count": 14,
     "metadata": {},
     "output_type": "execute_result"
    }
   ],
   "source": [
    "Light_Conditions_val_count"
   ]
  },
  {
   "cell_type": "code",
   "execution_count": 15,
   "id": "535df008-c778-42a3-8bd5-988a22428668",
   "metadata": {},
   "outputs": [],
   "source": [
    "df_demo=pd.DataFrame(Light_Conditions_val_count)"
   ]
  },
  {
   "cell_type": "code",
   "execution_count": 16,
   "id": "82118815-c0bd-44a7-a934-4275bb16e4a8",
   "metadata": {},
   "outputs": [
    {
     "data": {
      "image/png": "[encoded data removed]",
      "text/plain": [
       "<Figure size 640x480 with 1 Axes>"
      ]
     },
     "metadata": {},
     "output_type": "display_data"
    }
   ],
   "source": [
    "sns.barplot(df_demo,x=df_demo[\"count\"],y=df_demo.index);"
   ]
  },
  {
   "cell_type": "markdown",
   "id": "e1412f91-e643-4aee-b603-96e6fc453116",
   "metadata": {},
   "source": [
    "### insights:-\n",
    "This bar plot represents the count of occurrences for different lighting conditions. Here are some insights from the visualization:\n",
    "\n",
    " - The majority of incidents (possibly accidents or events) occurred in daylight conditions because of traffic.\n",
    " - The second most common condition is \"Darkness - lights lit,\" indicating that a notable number of incidents happened at night in areas with street lighting.\n",
    " - The data might imply that visibility plays a critical role in the frequency of incidents. While most incidents happen in daylight, nighttime conditions with proper street lighting still see a significant number of cases."
   ]
  },
  {
   "cell_type": "code",
   "execution_count": 124,
   "id": "f058759c-ac1f-4e5b-83b8-fcc10f646bbf",
   "metadata": {},
   "outputs": [
    {
     "data": {
      "text/plain": [
       "Junction_Detail\n",
       "Not at junction or within 20 metres    123094\n",
       "T or staggered junction                 96718\n",
       "Crossroads                              29948\n",
       "Roundabout                              27264\n",
       "Private drive or entrance               10875\n",
       "Other junction                           8315\n",
       "Slip road                                4265\n",
       "More than 4 arms (not roundabout)        4148\n",
       "Mini-roundabout                          3346\n",
       "Name: count, dtype: int64"
      ]
     },
     "execution_count": 124,
     "metadata": {},
     "output_type": "execute_result"
    }
   ],
   "source": [
    "df['Junction_Detail'].value_counts()"
   ]
  },
  {
   "cell_type": "code",
   "execution_count": 125,
   "id": "1c800e8d-bd09-4ee6-9970-58de1ebcbe74",
   "metadata": {},
   "outputs": [
    {
     "data": {
      "image/png": "[encoded data removed]",
      "text/plain": [
       "<Figure size 640x480 with 1 Axes>"
      ]
     },
     "metadata": {},
     "output_type": "display_data"
    }
   ],
   "source": [
    "sns.countplot(df, y=\"Junction_Detail\",hue=\"Junction_Detail\")\n",
    "plt.yticks(rotation=20);"
   ]
  },
  {
   "cell_type": "markdown",
   "id": "8a781aa9-3d16-4683-a33b-7f57f506a486",
   "metadata": {},
   "source": [
    "### insights:\n",
    "\n",
    "This bar chart represents the number of accidents based on different junction types. Here’s what can be inferred:\n",
    "\n",
    " - Most Accidents Happen Away from Junctions the majority of accidents occur \"Not at a junction or within 20 meters\", suggesting that high-speed roads or straight roads without intersections might be the most accident-prone.\n",
    " - T or Staggered Junctions Have High Accidents these junctions require vehicles to merge, turn, or yield, increasing the risk of collisions.\n",
    " - Crossroads involve multiple traffic streams, which can lead to confusion and accidents.\n",
    " - The highest risk areas are non-junction roads and major merging points like T-junctions and crossroads."
   ]
  },
  {
   "cell_type": "code",
   "execution_count": 126,
   "id": "f47ab50a-10e8-49f0-9936-f167051813c2",
   "metadata": {},
   "outputs": [
    {
     "data": {
      "text/plain": [
       "Accident_Severity\n",
       "Slight     263280\n",
       "Serious     40740\n",
       "Fatal        3953\n",
       "Name: count, dtype: int64"
      ]
     },
     "execution_count": 126,
     "metadata": {},
     "output_type": "execute_result"
    }
   ],
   "source": [
    "df['Accident_Severity'].value_counts()"
   ]
  },
  {
   "cell_type": "code",
   "execution_count": 127,
   "id": "5ea4ee50-a9e2-4d39-9c22-a73239587cb3",
   "metadata": {},
   "outputs": [
    {
     "data": {
      "image/png": "[encoded data removed]",
      "text/plain": [
       "<Figure size 640x480 with 1 Axes>"
      ]
     },
     "metadata": {},
     "output_type": "display_data"
    }
   ],
   "source": [
    "sns.countplot(df,x=\"Accident_Severity\",hue=\"Accident_Severity\")\n",
    "plt.title(\"Accidents by Accident Severity \");"
   ]
  },
  {
   "cell_type": "markdown",
   "id": "67f9c9f6-4aeb-40ce-9121-67f64bdd333f",
   "metadata": {},
   "source": [
    "### insights:\n",
    "This bar chart represents the number of accidents categorized by severity (Slight, Serious, and Fatal). Here’s what we can infer:\n",
    "\n",
    " - The vast majority of accidents fall under the \"Slight\" category, meaning they involve minor injuries or damage.\n",
    " - Fatal accidents occur at a much lower rate compared to slight and serious accidents. This suggests that while accidents are common, the likelihood of a fatal crash is relatively low."
   ]
  },
  {
   "cell_type": "code",
   "execution_count": 128,
   "id": "321baed4-bc09-4b48-a9d5-953b989ba0be",
   "metadata": {},
   "outputs": [
    {
     "data": {
      "text/plain": [
       "Road_Surface_Conditions\n",
       "Dry                     208967\n",
       "Wet or damp              81479\n",
       "Frost or ice             12078\n",
       "Snow                      4758\n",
       "Flood over 3cm. deep       374\n",
       "Name: count, dtype: int64"
      ]
     },
     "execution_count": 128,
     "metadata": {},
     "output_type": "execute_result"
    }
   ],
   "source": [
    "df['Road_Surface_Conditions'].value_counts()"
   ]
  },
  {
   "cell_type": "code",
   "execution_count": 129,
   "id": "0193fed0-386d-4163-9c30-25863d7666c7",
   "metadata": {},
   "outputs": [
    {
     "data": {
      "image/png": "[encoded data removed]",
      "text/plain": [
       "<Figure size 640x480 with 1 Axes>"
      ]
     },
     "metadata": {},
     "output_type": "display_data"
    }
   ],
   "source": [
    "sns.countplot(df, y=\"Road_Surface_Conditions\")\n",
    "plt.title(\"Accidents by Road_Surface_Conditions\");"
   ]
  },
  {
   "cell_type": "markdown",
   "id": "b273cf7b-abf2-4ad6-9800-08b32dce26fe",
   "metadata": {},
   "source": [
    "### insights:\n",
    "This bar chart represents the number of accidents categorized by road surface conditions. Here’s what we can infer from the data:\n",
    "\n",
    " - The highest number of accidents occur when the road is dry. This might seem surprising, but it likely reflects the fact that most driving happens in normal, dry conditions.\n",
    " - The second-highest number of accidents happen on wet roads, likely due to reduced tire grip, longer braking distances.\n",
    " - Very few accidents happen on roads with flooding over 3 cm deep, probably because such conditions discourage travel, or authorities may close roads."
   ]
  },
  {
   "cell_type": "code",
   "execution_count": 130,
   "id": "eddc1b94-a323-4ac7-b692-a9c6a85cb484",
   "metadata": {},
   "outputs": [
    {
     "data": {
      "text/plain": [
       "Urban_or_Rural_Area\n",
       "Urban    198532\n",
       "Rural    109441\n",
       "Name: count, dtype: int64"
      ]
     },
     "execution_count": 130,
     "metadata": {},
     "output_type": "execute_result"
    }
   ],
   "source": [
    "df['Urban_or_Rural_Area'].value_counts()"
   ]
  },
  {
   "cell_type": "code",
   "execution_count": 131,
   "id": "43b1026f-7d3c-4f17-8c7b-465976c8d2a6",
   "metadata": {},
   "outputs": [
    {
     "data": {
      "image/png": "[encoded data removed]",
      "text/plain": [
       "<Figure size 640x480 with 1 Axes>"
      ]
     },
     "metadata": {},
     "output_type": "display_data"
    }
   ],
   "source": [
    "sns.countplot(df, x=\"Urban_or_Rural_Area\")\n",
    "plt.title(\"Accidents by Urban_or_Rural_Area\");"
   ]
  },
  {
   "cell_type": "markdown",
   "id": "a768e9d2-ed33-476e-a253-d9dfdf097266",
   "metadata": {},
   "source": [
    "### insights:\n",
    "This bar chart represents the number of accidents categorized by Urban vs. Rural areas. Here’s what we can infer from the data:\n",
    "\n",
    " - The number of accidents in urban areas is significantly higher than in rural areas.\n",
    " - This is expected because urban areas have higher traffic density, more intersections, pedestrians, cyclists, and frequent stops, increasing the likelihood of accidents.\n",
    " - Rural areas have fewer accidents, likely due to lower traffic volume and fewer intersections."
   ]
  },
  {
   "cell_type": "code",
   "execution_count": 132,
   "id": "6b8bdc2b-db3e-493e-a415-cc3efab600b7",
   "metadata": {},
   "outputs": [
    {
     "data": {
      "image/png": "[encoded data removed]",
      "text/plain": [
       "<Figure size 640x480 with 1 Axes>"
      ]
     },
     "metadata": {},
     "output_type": "display_data"
    }
   ],
   "source": [
    "sns.countplot(df, x=\"Day_of_Week\", order=[\"Monday\", \"Tuesday\", \"Wednesday\", \"Thursday\", \"Friday\", \"Saturday\", \"Sunday\"])\n",
    "plt.title(\"Accidents by Day of the Week\")\n",
    "plt.xticks(rotation=45);"
   ]
  },
  {
   "cell_type": "markdown",
   "id": "10ed06a5-95a2-4d0e-950b-cde1639302c0",
   "metadata": {},
   "source": [
    "### insights:\n",
    "The bar chart titled \"Accidents by Day of the Week\" provides insights into the distribution of accidents occurring across different days.\n",
    "\n",
    " - Friday has the highest number of accidents this could be due to increased travel activity at the end of the workweek and end of the week also.\n",
    " -  Sunday has the lowest accident count, possibly due to fewer vehicles on the road compared to weekday"
   ]
  },
  {
   "cell_type": "code",
   "execution_count": 133,
   "id": "83f6362e-1435-4d0c-9298-10135365d69b",
   "metadata": {},
   "outputs": [
    {
     "data": {
      "text/plain": [
       "Road_Type\n",
       "Single carriageway    230612\n",
       "Dual carriageway       45467\n",
       "Roundabout             20929\n",
       "One way street          6197\n",
       "Slip road               3234\n",
       "Name: count, dtype: int64"
      ]
     },
     "execution_count": 133,
     "metadata": {},
     "output_type": "execute_result"
    }
   ],
   "source": [
    "df['Road_Type'].value_counts()"
   ]
  },
  {
   "cell_type": "code",
   "execution_count": 134,
   "id": "c2c3224d-9750-4b22-b793-da479f88df39",
   "metadata": {},
   "outputs": [
    {
     "data": {
      "image/png": "[encoded data removed]",
      "text/plain": [
       "<Figure size 640x480 with 1 Axes>"
      ]
     },
     "metadata": {},
     "output_type": "display_data"
    }
   ],
   "source": [
    "sns.countplot(df, x=\"Road_Type\")\n",
    "plt.title(\"Accidents by Road Type\")\n",
    "plt.xticks(rotation=30);"
   ]
  },
  {
   "cell_type": "markdown",
   "id": "938e462c-1601-475c-85a2-4b7c27f6bbc1",
   "metadata": {},
   "source": [
    "### insights:\n",
    "The bar chart titled \"Accidents by Road Type\" provides insights into the distribution of accidents across different road types. Here are some key takeaways:\n",
    "\n",
    " - Single Carriageways have the highest number of accidents the accident count on single carriageways is significantly higher than any other road type. This could be because of higher traffic volume on these roads.\n",
    " - Roundabouts, One-Way Streets, and Slip Roads have much lower accident numbers these roads typically have lower speeds and controlled entry/exit points."
   ]
  },
  {
   "cell_type": "code",
   "execution_count": 135,
   "id": "0d5109bf-db6f-45a9-bedb-e739cea72055",
   "metadata": {},
   "outputs": [
    {
     "data": {
      "image/png": "[encoded data removed]",
      "text/plain": [
       "<Figure size 500x500 with 1 Axes>"
      ]
     },
     "metadata": {},
     "output_type": "display_data"
    }
   ],
   "source": [
    "df[\"Accident_Severity\"].value_counts().plot(kind=\"pie\", autopct=\"%1.1f%%\", figsize=(5, 5))\n",
    "plt.title(\"Accident Severity Distribution\");"
   ]
  },
  {
   "cell_type": "markdown",
   "id": "6f910881-72a9-4e73-9022-50eb71b3226f",
   "metadata": {},
   "source": [
    "### insights:\n",
    "The pie chart titled \"Accident Severity Distribution\" provides insights into the severity of accidents. Here’s what we can infer from it:\n",
    "\n",
    " - The vast majority of accidents reported in Slight "
   ]
  },
  {
   "cell_type": "code",
   "execution_count": 136,
   "id": "d8f587f4-d907-4859-bb51-4ba8c05f9d28",
   "metadata": {},
   "outputs": [
    {
     "data": {
      "text/plain": [
       "Year\n",
       "2021    163554\n",
       "2022    144419\n",
       "Name: count, dtype: int64"
      ]
     },
     "execution_count": 136,
     "metadata": {},
     "output_type": "execute_result"
    }
   ],
   "source": [
    "df['Year'].value_counts()"
   ]
  },
  {
   "cell_type": "code",
   "execution_count": 137,
   "id": "554c7f46-a5d0-483b-a19b-3c696b9c9279",
   "metadata": {},
   "outputs": [
    {
     "data": {
      "image/png": "[encoded data removed]",
      "text/plain": [
       "<Figure size 500x500 with 1 Axes>"
      ]
     },
     "metadata": {},
     "output_type": "display_data"
    }
   ],
   "source": [
    "df[\"Year\"].value_counts().plot(kind=\"pie\", autopct=\"%1.1f%%\", figsize=(5, 5))\n",
    "plt.title(\"By YEAR\");"
   ]
  },
  {
   "cell_type": "markdown",
   "id": "bddc66b3-fded-485e-ad48-3ea8bd8e7947",
   "metadata": {},
   "source": [
    "### insights:\n",
    "This is a pie chart representing data distribution by year (2021 and 2022). Here are some key observations:\n",
    "\n",
    " - The blue section represents 53.1% of the data, indicating that the year 2021 had a slightly higher share of whatever is being measured.\n",
    " - The orange section accounts for 46.9%, meaning that the year 2022 had a slightly lower proportion.\n",
    " -  The two segments are relatively close in size, meaning the difference between 2021 and 2022 is not extreme but still noticeable."
   ]
  },
  {
   "cell_type": "code",
   "execution_count": 138,
   "id": "ac98f291-78d5-495c-813f-bd1d9c7ea365",
   "metadata": {},
   "outputs": [
    {
     "data": {
      "text/plain": [
       "Speed_limit\n",
       "30    200040\n",
       "60     46826\n",
       "40     25650\n",
       "70     22362\n",
       "50     10191\n",
       "20      2899\n",
       "10         3\n",
       "15         2\n",
       "Name: count, dtype: int64"
      ]
     },
     "execution_count": 138,
     "metadata": {},
     "output_type": "execute_result"
    }
   ],
   "source": [
    "df['Speed_limit'].value_counts()"
   ]
  },
  {
   "cell_type": "code",
   "execution_count": 139,
   "id": "0428e2e2-c3ff-47ac-a2a5-d14c52f05a51",
   "metadata": {},
   "outputs": [
    {
     "data": {
      "image/png": "[encoded data removed]",
      "text/plain": [
       "<Figure size 640x480 with 1 Axes>"
      ]
     },
     "metadata": {},
     "output_type": "display_data"
    }
   ],
   "source": [
    "sns.countplot(df, x=\"Speed_limit\")\n",
    "plt.title(\"Accidents by Speed_limit\");"
   ]
  },
  {
   "cell_type": "markdown",
   "id": "9b90e847-9853-4977-a1af-4cb8de4f9367",
   "metadata": {},
   "source": [
    "### insights:\n",
    "This bar chart represents the number of accidents categorized by speed limits. Here are some key takeaways:\n",
    "\n",
    " - The tallest bar corresponds to the 30 mph speed limit, meaning most accidents happen in areas with this speed limit. This could be due to urban areas with higher traffic density and pedestrian activity.\n",
    " - As the speed limit increases (e.g., 60, 40, 70 mph), the number of accidents decreases significantly. This might indicate that higher-speed roads, like highways."
   ]
  },
  {
   "cell_type": "code",
   "execution_count": 140,
   "id": "d77bd5bb-eb32-4c7b-8c94-89a4f669509e",
   "metadata": {},
   "outputs": [],
   "source": [
    "Speed_limit_severity = df.groupby('Speed_limit')['Accident_Severity'].value_counts()"
   ]
  },
  {
   "cell_type": "code",
   "execution_count": 141,
   "id": "dde3dbef-a88f-4119-a206-851139a5b94e",
   "metadata": {},
   "outputs": [
    {
     "data": {
      "text/plain": [
       "Speed_limit  Accident_Severity\n",
       "10           Slight                    3\n",
       "15           Slight                    2\n",
       "20           Slight                 2508\n",
       "             Serious                 377\n",
       "             Fatal                    14\n",
       "30           Slight               174427\n",
       "             Serious               24076\n",
       "             Fatal                  1537\n",
       "40           Slight                21987\n",
       "             Serious                3295\n",
       "             Fatal                   368\n",
       "50           Slight                 8507\n",
       "             Serious                1464\n",
       "             Fatal                   220\n",
       "60           Slight                36696\n",
       "             Serious                8817\n",
       "             Fatal                  1313\n",
       "70           Slight                19150\n",
       "             Serious                2711\n",
       "             Fatal                   501\n",
       "Name: count, dtype: int64"
      ]
     },
     "execution_count": 141,
     "metadata": {},
     "output_type": "execute_result"
    }
   ],
   "source": [
    "Speed_limit_severity"
   ]
  },
  {
   "cell_type": "code",
   "execution_count": 142,
   "id": "895709c2-a248-4d5f-b4fd-9b972964b8f8",
   "metadata": {},
   "outputs": [
    {
     "data": {
      "image/png": "[encoded data removed]",
      "text/plain": [
       "<Figure size 640x480 with 1 Axes>"
      ]
     },
     "metadata": {},
     "output_type": "display_data"
    }
   ],
   "source": [
    "sns.barplot(df, x=\"Accident_Severity\", y=\"Speed_limit\", hue=\"Accident_Severity\")\n",
    "plt.title(\"Accidents by Speed_limit\");"
   ]
  },
  {
   "cell_type": "markdown",
   "id": "e9c5a3c8-1392-40e3-a99d-874db177be08",
   "metadata": {},
   "source": [
    "### insights:\n",
    "This bar chart visualizes the relationship between Accident Severity and Speed Limit. Here's an intuition behind the plot:\n",
    "\n",
    " - Fatal accidents happen at the highest speed limits.\n",
    " - Serious accidents happen at slightly lower speed limits.\n",
    " - Slight accidents happen at the lowest speed limits.\n",
    " - Higher speed limits lead to more severe accidents. So, controlling speed can help reduce serious and fatal accidents. 🚗💥"
   ]
  },
  {
   "cell_type": "code",
   "execution_count": 143,
   "id": "fccb3c7e-7f7f-4def-8019-347ab1f59e05",
   "metadata": {},
   "outputs": [],
   "source": [
    "rural_urban_counts = df['Urban_or_Rural_Area'].value_counts()"
   ]
  },
  {
   "cell_type": "code",
   "execution_count": 144,
   "id": "9246d023-99d2-46aa-803c-29b242e1cce7",
   "metadata": {},
   "outputs": [
    {
     "data": {
      "text/plain": [
       "Urban_or_Rural_Area\n",
       "Urban    198532\n",
       "Rural    109441\n",
       "Name: count, dtype: int64"
      ]
     },
     "execution_count": 144,
     "metadata": {},
     "output_type": "execute_result"
    }
   ],
   "source": [
    "rural_urban_counts"
   ]
  },
  {
   "cell_type": "code",
   "execution_count": 145,
   "id": "3cb13478-9175-4ada-be76-8fff5a4b8301",
   "metadata": {},
   "outputs": [
    {
     "data": {
      "image/png": "[encoded data removed]",
      "text/plain": [
       "<Figure size 640x480 with 1 Axes>"
      ]
     },
     "metadata": {},
     "output_type": "display_data"
    }
   ],
   "source": [
    "rural_urban_counts.plot.pie(autopct='%1.1f%%', colors=sns.color_palette('viridis', len(rural_urban_counts)));\n",
    "plt.title(\"Accident Distribution in Urban vs. Rural Areas\");"
   ]
  },
  {
   "cell_type": "markdown",
   "id": "aa348198-7b99-4636-891f-b9ee3a728f4d",
   "metadata": {},
   "source": [
    "### insights:\n",
    "This pie chart shows the distribution of accidents in Urban vs. Rural areas.\n",
    " - More accidents occur in cities (urban areas) because of higher traffic, congestion, and more vehicles.\n",
    " - Fewer accidents happen in rural areas, but they could be more severe due to higher speeds and fewer safety measures."
   ]
  },
  {
   "cell_type": "code",
   "execution_count": 146,
   "id": "0f249bfe-aba9-4439-ad9e-e5d9ca8c4a3a",
   "metadata": {},
   "outputs": [],
   "source": [
    "light_severity = df.groupby('Light_Conditions') ['Accident_Severity'].value_counts()"
   ]
  },
  {
   "cell_type": "code",
   "execution_count": 147,
   "id": "a63ebc5c-db48-4d3e-bd9a-c6289e2131e4",
   "metadata": {},
   "outputs": [
    {
     "data": {
      "text/plain": [
       "Light_Conditions             Accident_Severity\n",
       "Darkness - lighting unknown  Slight                 2539\n",
       "                             Serious                 357\n",
       "                             Fatal                    28\n",
       "Darkness - lights lit        Slight                50716\n",
       "                             Serious                8515\n",
       "                             Fatal                   862\n",
       "Darkness - lights unlit      Slight                  981\n",
       "                             Serious                 146\n",
       "                             Fatal                    15\n",
       "Darkness - no lighting       Slight                12801\n",
       "                             Serious                3078\n",
       "                             Fatal                   649\n",
       "Daylight                     Slight               196243\n",
       "                             Serious               28644\n",
       "                             Fatal                  2399\n",
       "Name: count, dtype: int64"
      ]
     },
     "execution_count": 147,
     "metadata": {},
     "output_type": "execute_result"
    }
   ],
   "source": [
    "light_severity"
   ]
  },
  {
   "cell_type": "code",
   "execution_count": 148,
   "id": "8b4b9b4b-eb59-4ccf-b6db-c2f992326b2a",
   "metadata": {},
   "outputs": [
    {
     "data": {
      "image/png": "[encoded data removed]",
      "text/plain": [
       "<Figure size 640x480 with 1 Axes>"
      ]
     },
     "metadata": {},
     "output_type": "display_data"
    }
   ],
   "source": [
    "light_severity.plot(kind=\"bar\")\n",
    "plt.title(\"Accident Severity by Light Conditions\")\n",
    "plt.xlabel(\"Light Conditions\")\n",
    "plt.ylabel(\"Number of Accidents\");"
   ]
  },
  {
   "cell_type": "markdown",
   "id": "ab527a6a-c195-4576-87d9-5157cacf7175",
   "metadata": {},
   "source": [
    "### insights:\n"
   ]
  },
  {
   "cell_type": "code",
   "execution_count": 149,
   "id": "7abe3f27-f2a9-4111-ac22-b07adc5ca1af",
   "metadata": {},
   "outputs": [],
   "source": [
    "Road_Condition = df.groupby('Road_Surface_Conditions') ['Urban_or_Rural_Area'].value_counts()"
   ]
  },
  {
   "cell_type": "code",
   "execution_count": 150,
   "id": "bcb891df-33fa-4d38-b545-8599e0be04b3",
   "metadata": {},
   "outputs": [
    {
     "data": {
      "text/plain": [
       "Road_Surface_Conditions  Urban_or_Rural_Area\n",
       "Dry                      Urban                  142498\n",
       "                         Rural                   66469\n",
       "Flood over 3cm. deep     Rural                     287\n",
       "                         Urban                      87\n",
       "Frost or ice             Rural                    6899\n",
       "                         Urban                    5179\n",
       "Snow                     Rural                    2387\n",
       "                         Urban                    2371\n",
       "Wet or damp              Urban                   48209\n",
       "                         Rural                   33270\n",
       "Name: count, dtype: int64"
      ]
     },
     "execution_count": 150,
     "metadata": {},
     "output_type": "execute_result"
    }
   ],
   "source": [
    "Road_Condition"
   ]
  },
  {
   "cell_type": "code",
   "execution_count": 151,
   "id": "473e4a7a-8c33-4ab7-9cb3-6de32beaca60",
   "metadata": {},
   "outputs": [
    {
     "data": {
      "image/png": "[encoded data removed]",
      "text/plain": [
       "<Figure size 640x480 with 1 Axes>"
      ]
     },
     "metadata": {},
     "output_type": "display_data"
    }
   ],
   "source": [
    "Road_Condition.plot(kind=\"bar\")\n",
    "plt.title(\"Accident Road condition\")\n",
    "plt.xlabel(\"Urban_or_Rural_Area\")\n",
    "plt.ylabel(\"Road_Surface_Conditions\")\n",
    "plt.xticks(rotation=45);"
   ]
  },
  {
   "cell_type": "markdown",
   "id": "1a6ac1ca-0084-4be6-a063-caeaf350bf48",
   "metadata": {},
   "source": [
    "### insights:\n",
    "This bar chart represents the distribution of road conditions during accidents, categorized by urban or rural areas. Here are some key insights:\n",
    "\n",
    " - The highest number of accidents happen on dry roads in both urban and rural areas, with urban areas showing significantly higher accident counts.\n",
    "This could be due to higher traffic volumes in urban regions.\n",
    " - Accidents occurring on roads with ice, snow, or flooding contribute to relatively low numbers.\n",
    " - Urban wet/damp conditions contribute to more accidents than rural wet/damp conditions.\n"
   ]
  },
  {
   "cell_type": "code",
   "execution_count": 152,
   "id": "706e5c04-8e27-4ef1-ad13-60c0e62108cb",
   "metadata": {},
   "outputs": [],
   "source": [
    "road_type_severity = df.groupby(['Road_Type', 'Accident_Severity']).size().reset_index(name='Count')"
   ]
  },
  {
   "cell_type": "code",
   "execution_count": 153,
   "id": "cc1a8823-baae-4214-a287-3f12d7bff513",
   "metadata": {},
   "outputs": [
    {
     "data": {
      "text/html": [
       "<div>\n",
       "<style scoped>\n",
       "    .dataframe tbody tr th:only-of-type {\n",
       "        vertical-align: middle;\n",
       "    }\n",
       "\n",
       "    .dataframe tbody tr th {\n",
       "        vertical-align: top;\n",
       "    }\n",
       "\n",
       "    .dataframe thead th {\n",
       "        text-align: right;\n",
       "    }\n",
       "</style>\n",
       "<table border=\"1\" class=\"dataframe\">\n",
       "  <thead>\n",
       "    <tr style=\"text-align: right;\">\n",
       "      <th></th>\n",
       "      <th>Road_Type</th>\n",
       "      <th>Accident_Severity</th>\n",
       "      <th>Count</th>\n",
       "    </tr>\n",
       "  </thead>\n",
       "  <tbody>\n",
       "    <tr>\n",
       "      <th>0</th>\n",
       "      <td>Dual carriageway</td>\n",
       "      <td>Fatal</td>\n",
       "      <td>822</td>\n",
       "    </tr>\n",
       "    <tr>\n",
       "      <th>1</th>\n",
       "      <td>Dual carriageway</td>\n",
       "      <td>Serious</td>\n",
       "      <td>5331</td>\n",
       "    </tr>\n",
       "    <tr>\n",
       "      <th>2</th>\n",
       "      <td>Dual carriageway</td>\n",
       "      <td>Slight</td>\n",
       "      <td>39314</td>\n",
       "    </tr>\n",
       "    <tr>\n",
       "      <th>3</th>\n",
       "      <td>One way street</td>\n",
       "      <td>Fatal</td>\n",
       "      <td>51</td>\n",
       "    </tr>\n",
       "    <tr>\n",
       "      <th>4</th>\n",
       "      <td>One way street</td>\n",
       "      <td>Serious</td>\n",
       "      <td>744</td>\n",
       "    </tr>\n",
       "    <tr>\n",
       "      <th>5</th>\n",
       "      <td>One way street</td>\n",
       "      <td>Slight</td>\n",
       "      <td>5402</td>\n",
       "    </tr>\n",
       "    <tr>\n",
       "      <th>6</th>\n",
       "      <td>Roundabout</td>\n",
       "      <td>Fatal</td>\n",
       "      <td>77</td>\n",
       "    </tr>\n",
       "    <tr>\n",
       "      <th>7</th>\n",
       "      <td>Roundabout</td>\n",
       "      <td>Serious</td>\n",
       "      <td>1782</td>\n",
       "    </tr>\n",
       "    <tr>\n",
       "      <th>8</th>\n",
       "      <td>Roundabout</td>\n",
       "      <td>Slight</td>\n",
       "      <td>19070</td>\n",
       "    </tr>\n",
       "    <tr>\n",
       "      <th>9</th>\n",
       "      <td>Single carriageway</td>\n",
       "      <td>Fatal</td>\n",
       "      <td>2982</td>\n",
       "    </tr>\n",
       "    <tr>\n",
       "      <th>10</th>\n",
       "      <td>Single carriageway</td>\n",
       "      <td>Serious</td>\n",
       "      <td>32444</td>\n",
       "    </tr>\n",
       "    <tr>\n",
       "      <th>11</th>\n",
       "      <td>Single carriageway</td>\n",
       "      <td>Slight</td>\n",
       "      <td>195186</td>\n",
       "    </tr>\n",
       "    <tr>\n",
       "      <th>12</th>\n",
       "      <td>Slip road</td>\n",
       "      <td>Fatal</td>\n",
       "      <td>14</td>\n",
       "    </tr>\n",
       "    <tr>\n",
       "      <th>13</th>\n",
       "      <td>Slip road</td>\n",
       "      <td>Serious</td>\n",
       "      <td>275</td>\n",
       "    </tr>\n",
       "    <tr>\n",
       "      <th>14</th>\n",
       "      <td>Slip road</td>\n",
       "      <td>Slight</td>\n",
       "      <td>2945</td>\n",
       "    </tr>\n",
       "  </tbody>\n",
       "</table>\n",
       "</div>"
      ],
      "text/plain": [
       "             Road_Type Accident_Severity   Count\n",
       "0     Dual carriageway             Fatal     822\n",
       "1     Dual carriageway           Serious    5331\n",
       "2     Dual carriageway            Slight   39314\n",
       "3       One way street             Fatal      51\n",
       "4       One way street           Serious     744\n",
       "5       One way street            Slight    5402\n",
       "6           Roundabout             Fatal      77\n",
       "7           Roundabout           Serious    1782\n",
       "8           Roundabout            Slight   19070\n",
       "9   Single carriageway             Fatal    2982\n",
       "10  Single carriageway           Serious   32444\n",
       "11  Single carriageway            Slight  195186\n",
       "12           Slip road             Fatal      14\n",
       "13           Slip road           Serious     275\n",
       "14           Slip road            Slight    2945"
      ]
     },
     "execution_count": 153,
     "metadata": {},
     "output_type": "execute_result"
    }
   ],
   "source": [
    "road_type_severity"
   ]
  },
  {
   "cell_type": "code",
   "execution_count": 154,
   "id": "0be73df0-b1dc-4583-8777-049fb9237703",
   "metadata": {},
   "outputs": [
    {
     "data": {
      "image/png": "[encoded data removed]",
      "text/plain": [
       "<Figure size 640x480 with 1 Axes>"
      ]
     },
     "metadata": {},
     "output_type": "display_data"
    }
   ],
   "source": [
    "road_type_severity = road_type_severity[road_type_severity['Road_Type'].isin(['Single carriageway', 'Dual carriageway', 'Motorway'])]\n",
    "\n",
    "sns.barplot(x='Road_Type', y='Count', hue='Accident_Severity', data=road_type_severity, palette='viridis')\n",
    "plt.title(\"Accident Severity by Road Type\")\n",
    "\n",
    "plt.legend(title=\"Accident Severity\");\n"
   ]
  },
  {
   "cell_type": "markdown",
   "id": "0f050213-1350-4ad4-b901-1927df34c53d",
   "metadata": {},
   "source": [
    "### insights:\n",
    "This bar chart illustrates accident severity based on road type (Dual Carriageway vs. Single Carriageway). Here are some key insights:\n",
    "\n",
    " - The majority of accidents occur on single carriageways, especially in the \"Slight\" severity category.\n",
    "This suggests that single carriageways are more prone to minor accidents, likely due to higher traffic interactions and lack of median barriers.\n",
    " - The accident count on dual carriageways is significantly lower across all severity levels.\n",
    " - This might indicate that dual carriageways offer better safety measures, such as divided lanes and better traffic flow.\n"
   ]
  },
  {
   "cell_type": "code",
   "execution_count": 155,
   "id": "35635f0f-6117-436c-a01c-62e1cb9e7af5",
   "metadata": {},
   "outputs": [
    {
     "data": {
      "text/plain": [
       "Road_Surface_Conditions\n",
       "Dry                     208967\n",
       "Flood over 3cm. deep       374\n",
       "Frost or ice             12078\n",
       "Snow                      4758\n",
       "Wet or damp              81479\n",
       "Name: Speed_limit, dtype: int64"
      ]
     },
     "execution_count": 155,
     "metadata": {},
     "output_type": "execute_result"
    }
   ],
   "source": [
    "df.groupby(\"Road_Surface_Conditions\")[\"Speed_limit\"].count()"
   ]
  },
  {
   "cell_type": "code",
   "execution_count": 156,
   "id": "d2a67c38-01bc-40aa-9ad6-1752dedb9d95",
   "metadata": {},
   "outputs": [
    {
     "data": {
      "image/png": "[encoded data removed]",
      "text/plain": [
       "<Figure size 640x480 with 1 Axes>"
      ]
     },
     "metadata": {},
     "output_type": "display_data"
    }
   ],
   "source": [
    "sns.barplot(df,x=\"Road_Surface_Conditions\",y=\"Speed_limit\",hue=\"Road_Surface_Conditions\",legend=False);"
   ]
  },
  {
   "cell_type": "markdown",
   "id": "24bd30de-9f64-4df9-a65b-9dee38759a3e",
   "metadata": {},
   "source": [
    "### insights:\n",
    "This bar chart represents the relationship between road surface conditions and the speed limit. Here are some key insights:\n",
    "\n",
    " - Dry roads have a moderate speed limit.\n",
    " - Wet or damp, frost/ice, and snow conditions have slightly higher speed limits than dry roads, which might indicate that the speed limit does not always adjust significantly for hazardous conditions.\n",
    " - Flooded roads (over 3cm deep) show the highest speed limit, which seems counterintuitive, as flooded roads are typically hazardous."
   ]
  },
  {
   "cell_type": "code",
   "execution_count": 157,
   "id": "9464b1b2-58be-4c62-a5d2-486219723ec9",
   "metadata": {},
   "outputs": [
    {
     "data": {
      "text/plain": [
       "Month\n",
       "Apr    33102\n",
       "Aug    35593\n",
       "Dec    31776\n",
       "Feb    29452\n",
       "Jan    31336\n",
       "Jul    36883\n",
       "Jun    35958\n",
       "Mar    34390\n",
       "May    35627\n",
       "Nov    39414\n",
       "Oct    38396\n",
       "Sep    35956\n",
       "Name: Number_of_Casualties, dtype: int64"
      ]
     },
     "execution_count": 157,
     "metadata": {},
     "output_type": "execute_result"
    }
   ],
   "source": [
    "df.groupby(\"Month\")[\"Number_of_Casualties\"].sum()"
   ]
  },
  {
   "cell_type": "code",
   "execution_count": 158,
   "id": "b34e95ad-a211-4a5a-9daf-1f80f36ffc11",
   "metadata": {},
   "outputs": [
    {
     "data": {
      "image/png": "[encoded data removed]",
      "text/plain": [
       "<Figure size 640x480 with 1 Axes>"
      ]
     },
     "metadata": {},
     "output_type": "display_data"
    }
   ],
   "source": [
    "sns.barplot(df,x=\"Month\",y=\"Number_of_Casualties\",hue=\"Month\",legend=False);"
   ]
  },
  {
   "cell_type": "markdown",
   "id": "e23077c7-bb1e-4ae6-a7ab-97e302f0541a",
   "metadata": {},
   "source": [
    "### insights:\n",
    "This bar chart represents the number of casualties per month in a given dataset. Here are some key insights:\n",
    "\n",
    " - August appears to have the highest number of casualties, though the difference is small.\n",
    " - This could be due to increased travel during summer vacations, more outdoor activities, and higher traffic congestion.\n",
    " - There is a slight increase in June, July, and August, which might suggest a seasonal effect.\n",
    " - From January to May and September to December, the number of casualties remains fairly stable."
   ]
  },
  {
   "cell_type": "code",
   "execution_count": null,
   "id": "448c6f09-aba9-4cdc-93d9-e93616d73bad",
   "metadata": {},
   "outputs": [],
   "source": []
  },
  {
   "cell_type": "code",
   "execution_count": null,
   "id": "11472d44-7f8f-4089-816c-412828cbaac0",
   "metadata": {},
   "outputs": [],
   "source": []
  },
  {
   "cell_type": "code",
   "execution_count": null,
   "id": "3fd5b662-8d2d-4f6b-bf21-1010d67a7b21",
   "metadata": {},
   "outputs": [],
   "source": []
  }
 ],
 "metadata": {
  "kernelspec": {
   "display_name": "Python 3 (ipykernel)",
   "language": "python",
   "name": "python3"
  },
  "language_info": {
   "codemirror_mode": {
    "name": "ipython",
    "version": 3
   },
   "file_extension": ".py",
   "mimetype": "text/x-python",
   "name": "python",
   "nbconvert_exporter": "python",
   "pygments_lexer": "ipython3",
   "version": "3.13.1"
  }
 },
 "nbformat": 4,
 "nbformat_minor": 5
}
